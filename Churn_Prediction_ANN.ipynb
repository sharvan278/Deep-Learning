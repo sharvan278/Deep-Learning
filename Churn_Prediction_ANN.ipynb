{
  "nbformat": 4,
  "nbformat_minor": 0,
  "metadata": {
    "colab": {
      "provenance": []
    },
    "kernelspec": {
      "name": "python3",
      "display_name": "Python 3"
    },
    "language_info": {
      "name": "python"
    }
  },
  "cells": [
    {
      "cell_type": "code",
      "execution_count": null,
      "metadata": {
        "id": "RTRxT1PNKUV5"
      },
      "outputs": [],
      "source": [
        "import pandas as pd\n",
        "import numpy as np\n",
        "import matplotlib.pyplot as plt\n",
        "import seaborn as sns\n",
        "import warnings\n",
        "warnings.filterwarnings('ignore')"
      ]
    },
    {
      "cell_type": "code",
      "source": [
        "df = pd.read_csv('1_Churn_Modelling(in).csv')\n",
        "df.head()"
      ],
      "metadata": {
        "colab": {
          "base_uri": "https://localhost:8080/",
          "height": 226
        },
        "id": "kWfvrzZUP27V",
        "outputId": "7b08b815-fe2c-410a-cf71-1fc40113141a"
      },
      "execution_count": null,
      "outputs": [
        {
          "output_type": "execute_result",
          "data": {
            "text/plain": [
              "   RowNumber  CustomerId   Surname  CreditScore Geography  Gender  Age  \\\n",
              "0          1    15634602  Hargrave          619    France  Female   42   \n",
              "1          2    15647311      Hill          608     Spain  Female   41   \n",
              "2          3    15619304      Onio          502    France  Female   42   \n",
              "3          4    15701354      Boni          699    France  Female   39   \n",
              "4          5    15737888  Mitchell          850     Spain  Female   43   \n",
              "\n",
              "   Tenure    Balance  NumOfProducts  HasCrCard  IsActiveMember  \\\n",
              "0       2       0.00              1          1               1   \n",
              "1       1   83807.86              1          0               1   \n",
              "2       8  159660.80              3          1               0   \n",
              "3       1       0.00              2          0               0   \n",
              "4       2  125510.82              1          1               1   \n",
              "\n",
              "   EstimatedSalary  Exited  \n",
              "0        101348.88       1  \n",
              "1        112542.58       0  \n",
              "2        113931.57       1  \n",
              "3         93826.63       0  \n",
              "4         79084.10       0  "
            ],
            "text/html": [
              "\n",
              "  <div id=\"df-c7ea53a1-ef94-413c-ada9-8bb71623b233\" class=\"colab-df-container\">\n",
              "    <div>\n",
              "<style scoped>\n",
              "    .dataframe tbody tr th:only-of-type {\n",
              "        vertical-align: middle;\n",
              "    }\n",
              "\n",
              "    .dataframe tbody tr th {\n",
              "        vertical-align: top;\n",
              "    }\n",
              "\n",
              "    .dataframe thead th {\n",
              "        text-align: right;\n",
              "    }\n",
              "</style>\n",
              "<table border=\"1\" class=\"dataframe\">\n",
              "  <thead>\n",
              "    <tr style=\"text-align: right;\">\n",
              "      <th></th>\n",
              "      <th>RowNumber</th>\n",
              "      <th>CustomerId</th>\n",
              "      <th>Surname</th>\n",
              "      <th>CreditScore</th>\n",
              "      <th>Geography</th>\n",
              "      <th>Gender</th>\n",
              "      <th>Age</th>\n",
              "      <th>Tenure</th>\n",
              "      <th>Balance</th>\n",
              "      <th>NumOfProducts</th>\n",
              "      <th>HasCrCard</th>\n",
              "      <th>IsActiveMember</th>\n",
              "      <th>EstimatedSalary</th>\n",
              "      <th>Exited</th>\n",
              "    </tr>\n",
              "  </thead>\n",
              "  <tbody>\n",
              "    <tr>\n",
              "      <th>0</th>\n",
              "      <td>1</td>\n",
              "      <td>15634602</td>\n",
              "      <td>Hargrave</td>\n",
              "      <td>619</td>\n",
              "      <td>France</td>\n",
              "      <td>Female</td>\n",
              "      <td>42</td>\n",
              "      <td>2</td>\n",
              "      <td>0.00</td>\n",
              "      <td>1</td>\n",
              "      <td>1</td>\n",
              "      <td>1</td>\n",
              "      <td>101348.88</td>\n",
              "      <td>1</td>\n",
              "    </tr>\n",
              "    <tr>\n",
              "      <th>1</th>\n",
              "      <td>2</td>\n",
              "      <td>15647311</td>\n",
              "      <td>Hill</td>\n",
              "      <td>608</td>\n",
              "      <td>Spain</td>\n",
              "      <td>Female</td>\n",
              "      <td>41</td>\n",
              "      <td>1</td>\n",
              "      <td>83807.86</td>\n",
              "      <td>1</td>\n",
              "      <td>0</td>\n",
              "      <td>1</td>\n",
              "      <td>112542.58</td>\n",
              "      <td>0</td>\n",
              "    </tr>\n",
              "    <tr>\n",
              "      <th>2</th>\n",
              "      <td>3</td>\n",
              "      <td>15619304</td>\n",
              "      <td>Onio</td>\n",
              "      <td>502</td>\n",
              "      <td>France</td>\n",
              "      <td>Female</td>\n",
              "      <td>42</td>\n",
              "      <td>8</td>\n",
              "      <td>159660.80</td>\n",
              "      <td>3</td>\n",
              "      <td>1</td>\n",
              "      <td>0</td>\n",
              "      <td>113931.57</td>\n",
              "      <td>1</td>\n",
              "    </tr>\n",
              "    <tr>\n",
              "      <th>3</th>\n",
              "      <td>4</td>\n",
              "      <td>15701354</td>\n",
              "      <td>Boni</td>\n",
              "      <td>699</td>\n",
              "      <td>France</td>\n",
              "      <td>Female</td>\n",
              "      <td>39</td>\n",
              "      <td>1</td>\n",
              "      <td>0.00</td>\n",
              "      <td>2</td>\n",
              "      <td>0</td>\n",
              "      <td>0</td>\n",
              "      <td>93826.63</td>\n",
              "      <td>0</td>\n",
              "    </tr>\n",
              "    <tr>\n",
              "      <th>4</th>\n",
              "      <td>5</td>\n",
              "      <td>15737888</td>\n",
              "      <td>Mitchell</td>\n",
              "      <td>850</td>\n",
              "      <td>Spain</td>\n",
              "      <td>Female</td>\n",
              "      <td>43</td>\n",
              "      <td>2</td>\n",
              "      <td>125510.82</td>\n",
              "      <td>1</td>\n",
              "      <td>1</td>\n",
              "      <td>1</td>\n",
              "      <td>79084.10</td>\n",
              "      <td>0</td>\n",
              "    </tr>\n",
              "  </tbody>\n",
              "</table>\n",
              "</div>\n",
              "    <div class=\"colab-df-buttons\">\n",
              "\n",
              "  <div class=\"colab-df-container\">\n",
              "    <button class=\"colab-df-convert\" onclick=\"convertToInteractive('df-c7ea53a1-ef94-413c-ada9-8bb71623b233')\"\n",
              "            title=\"Convert this dataframe to an interactive table.\"\n",
              "            style=\"display:none;\">\n",
              "\n",
              "  <svg xmlns=\"http://www.w3.org/2000/svg\" height=\"24px\" viewBox=\"0 -960 960 960\">\n",
              "    <path d=\"M120-120v-720h720v720H120Zm60-500h600v-160H180v160Zm220 220h160v-160H400v160Zm0 220h160v-160H400v160ZM180-400h160v-160H180v160Zm440 0h160v-160H620v160ZM180-180h160v-160H180v160Zm440 0h160v-160H620v160Z\"/>\n",
              "  </svg>\n",
              "    </button>\n",
              "\n",
              "  <style>\n",
              "    .colab-df-container {\n",
              "      display:flex;\n",
              "      gap: 12px;\n",
              "    }\n",
              "\n",
              "    .colab-df-convert {\n",
              "      background-color: #E8F0FE;\n",
              "      border: none;\n",
              "      border-radius: 50%;\n",
              "      cursor: pointer;\n",
              "      display: none;\n",
              "      fill: #1967D2;\n",
              "      height: 32px;\n",
              "      padding: 0 0 0 0;\n",
              "      width: 32px;\n",
              "    }\n",
              "\n",
              "    .colab-df-convert:hover {\n",
              "      background-color: #E2EBFA;\n",
              "      box-shadow: 0px 1px 2px rgba(60, 64, 67, 0.3), 0px 1px 3px 1px rgba(60, 64, 67, 0.15);\n",
              "      fill: #174EA6;\n",
              "    }\n",
              "\n",
              "    .colab-df-buttons div {\n",
              "      margin-bottom: 4px;\n",
              "    }\n",
              "\n",
              "    [theme=dark] .colab-df-convert {\n",
              "      background-color: #3B4455;\n",
              "      fill: #D2E3FC;\n",
              "    }\n",
              "\n",
              "    [theme=dark] .colab-df-convert:hover {\n",
              "      background-color: #434B5C;\n",
              "      box-shadow: 0px 1px 3px 1px rgba(0, 0, 0, 0.15);\n",
              "      filter: drop-shadow(0px 1px 2px rgba(0, 0, 0, 0.3));\n",
              "      fill: #FFFFFF;\n",
              "    }\n",
              "  </style>\n",
              "\n",
              "    <script>\n",
              "      const buttonEl =\n",
              "        document.querySelector('#df-c7ea53a1-ef94-413c-ada9-8bb71623b233 button.colab-df-convert');\n",
              "      buttonEl.style.display =\n",
              "        google.colab.kernel.accessAllowed ? 'block' : 'none';\n",
              "\n",
              "      async function convertToInteractive(key) {\n",
              "        const element = document.querySelector('#df-c7ea53a1-ef94-413c-ada9-8bb71623b233');\n",
              "        const dataTable =\n",
              "          await google.colab.kernel.invokeFunction('convertToInteractive',\n",
              "                                                    [key], {});\n",
              "        if (!dataTable) return;\n",
              "\n",
              "        const docLinkHtml = 'Like what you see? Visit the ' +\n",
              "          '<a target=\"_blank\" href=https://colab.research.google.com/notebooks/data_table.ipynb>data table notebook</a>'\n",
              "          + ' to learn more about interactive tables.';\n",
              "        element.innerHTML = '';\n",
              "        dataTable['output_type'] = 'display_data';\n",
              "        await google.colab.output.renderOutput(dataTable, element);\n",
              "        const docLink = document.createElement('div');\n",
              "        docLink.innerHTML = docLinkHtml;\n",
              "        element.appendChild(docLink);\n",
              "      }\n",
              "    </script>\n",
              "  </div>\n",
              "\n",
              "\n",
              "    <div id=\"df-d7072cad-101d-45a2-b3ea-14f98de1dec7\">\n",
              "      <button class=\"colab-df-quickchart\" onclick=\"quickchart('df-d7072cad-101d-45a2-b3ea-14f98de1dec7')\"\n",
              "                title=\"Suggest charts\"\n",
              "                style=\"display:none;\">\n",
              "\n",
              "<svg xmlns=\"http://www.w3.org/2000/svg\" height=\"24px\"viewBox=\"0 0 24 24\"\n",
              "     width=\"24px\">\n",
              "    <g>\n",
              "        <path d=\"M19 3H5c-1.1 0-2 .9-2 2v14c0 1.1.9 2 2 2h14c1.1 0 2-.9 2-2V5c0-1.1-.9-2-2-2zM9 17H7v-7h2v7zm4 0h-2V7h2v10zm4 0h-2v-4h2v4z\"/>\n",
              "    </g>\n",
              "</svg>\n",
              "      </button>\n",
              "\n",
              "<style>\n",
              "  .colab-df-quickchart {\n",
              "      --bg-color: #E8F0FE;\n",
              "      --fill-color: #1967D2;\n",
              "      --hover-bg-color: #E2EBFA;\n",
              "      --hover-fill-color: #174EA6;\n",
              "      --disabled-fill-color: #AAA;\n",
              "      --disabled-bg-color: #DDD;\n",
              "  }\n",
              "\n",
              "  [theme=dark] .colab-df-quickchart {\n",
              "      --bg-color: #3B4455;\n",
              "      --fill-color: #D2E3FC;\n",
              "      --hover-bg-color: #434B5C;\n",
              "      --hover-fill-color: #FFFFFF;\n",
              "      --disabled-bg-color: #3B4455;\n",
              "      --disabled-fill-color: #666;\n",
              "  }\n",
              "\n",
              "  .colab-df-quickchart {\n",
              "    background-color: var(--bg-color);\n",
              "    border: none;\n",
              "    border-radius: 50%;\n",
              "    cursor: pointer;\n",
              "    display: none;\n",
              "    fill: var(--fill-color);\n",
              "    height: 32px;\n",
              "    padding: 0;\n",
              "    width: 32px;\n",
              "  }\n",
              "\n",
              "  .colab-df-quickchart:hover {\n",
              "    background-color: var(--hover-bg-color);\n",
              "    box-shadow: 0 1px 2px rgba(60, 64, 67, 0.3), 0 1px 3px 1px rgba(60, 64, 67, 0.15);\n",
              "    fill: var(--button-hover-fill-color);\n",
              "  }\n",
              "\n",
              "  .colab-df-quickchart-complete:disabled,\n",
              "  .colab-df-quickchart-complete:disabled:hover {\n",
              "    background-color: var(--disabled-bg-color);\n",
              "    fill: var(--disabled-fill-color);\n",
              "    box-shadow: none;\n",
              "  }\n",
              "\n",
              "  .colab-df-spinner {\n",
              "    border: 2px solid var(--fill-color);\n",
              "    border-color: transparent;\n",
              "    border-bottom-color: var(--fill-color);\n",
              "    animation:\n",
              "      spin 1s steps(1) infinite;\n",
              "  }\n",
              "\n",
              "  @keyframes spin {\n",
              "    0% {\n",
              "      border-color: transparent;\n",
              "      border-bottom-color: var(--fill-color);\n",
              "      border-left-color: var(--fill-color);\n",
              "    }\n",
              "    20% {\n",
              "      border-color: transparent;\n",
              "      border-left-color: var(--fill-color);\n",
              "      border-top-color: var(--fill-color);\n",
              "    }\n",
              "    30% {\n",
              "      border-color: transparent;\n",
              "      border-left-color: var(--fill-color);\n",
              "      border-top-color: var(--fill-color);\n",
              "      border-right-color: var(--fill-color);\n",
              "    }\n",
              "    40% {\n",
              "      border-color: transparent;\n",
              "      border-right-color: var(--fill-color);\n",
              "      border-top-color: var(--fill-color);\n",
              "    }\n",
              "    60% {\n",
              "      border-color: transparent;\n",
              "      border-right-color: var(--fill-color);\n",
              "    }\n",
              "    80% {\n",
              "      border-color: transparent;\n",
              "      border-right-color: var(--fill-color);\n",
              "      border-bottom-color: var(--fill-color);\n",
              "    }\n",
              "    90% {\n",
              "      border-color: transparent;\n",
              "      border-bottom-color: var(--fill-color);\n",
              "    }\n",
              "  }\n",
              "</style>\n",
              "\n",
              "      <script>\n",
              "        async function quickchart(key) {\n",
              "          const quickchartButtonEl =\n",
              "            document.querySelector('#' + key + ' button');\n",
              "          quickchartButtonEl.disabled = true;  // To prevent multiple clicks.\n",
              "          quickchartButtonEl.classList.add('colab-df-spinner');\n",
              "          try {\n",
              "            const charts = await google.colab.kernel.invokeFunction(\n",
              "                'suggestCharts', [key], {});\n",
              "          } catch (error) {\n",
              "            console.error('Error during call to suggestCharts:', error);\n",
              "          }\n",
              "          quickchartButtonEl.classList.remove('colab-df-spinner');\n",
              "          quickchartButtonEl.classList.add('colab-df-quickchart-complete');\n",
              "        }\n",
              "        (() => {\n",
              "          let quickchartButtonEl =\n",
              "            document.querySelector('#df-d7072cad-101d-45a2-b3ea-14f98de1dec7 button');\n",
              "          quickchartButtonEl.style.display =\n",
              "            google.colab.kernel.accessAllowed ? 'block' : 'none';\n",
              "        })();\n",
              "      </script>\n",
              "    </div>\n",
              "\n",
              "    </div>\n",
              "  </div>\n"
            ],
            "application/vnd.google.colaboratory.intrinsic+json": {
              "type": "dataframe",
              "variable_name": "df",
              "summary": "{\n  \"name\": \"df\",\n  \"rows\": 10000,\n  \"fields\": [\n    {\n      \"column\": \"RowNumber\",\n      \"properties\": {\n        \"dtype\": \"number\",\n        \"std\": 2886,\n        \"min\": 1,\n        \"max\": 10000,\n        \"num_unique_values\": 10000,\n        \"samples\": [\n          6253,\n          4685,\n          1732\n        ],\n        \"semantic_type\": \"\",\n        \"description\": \"\"\n      }\n    },\n    {\n      \"column\": \"CustomerId\",\n      \"properties\": {\n        \"dtype\": \"number\",\n        \"std\": 71936,\n        \"min\": 15565701,\n        \"max\": 15815690,\n        \"num_unique_values\": 10000,\n        \"samples\": [\n          15687492,\n          15736963,\n          15721730\n        ],\n        \"semantic_type\": \"\",\n        \"description\": \"\"\n      }\n    },\n    {\n      \"column\": \"Surname\",\n      \"properties\": {\n        \"dtype\": \"category\",\n        \"num_unique_values\": 2932,\n        \"samples\": [\n          \"McGuirk\",\n          \"Torkelson\",\n          \"Rapuluchukwu\"\n        ],\n        \"semantic_type\": \"\",\n        \"description\": \"\"\n      }\n    },\n    {\n      \"column\": \"CreditScore\",\n      \"properties\": {\n        \"dtype\": \"number\",\n        \"std\": 96,\n        \"min\": 350,\n        \"max\": 850,\n        \"num_unique_values\": 460,\n        \"samples\": [\n          754,\n          533,\n          744\n        ],\n        \"semantic_type\": \"\",\n        \"description\": \"\"\n      }\n    },\n    {\n      \"column\": \"Geography\",\n      \"properties\": {\n        \"dtype\": \"category\",\n        \"num_unique_values\": 3,\n        \"samples\": [\n          \"France\",\n          \"Spain\",\n          \"Germany\"\n        ],\n        \"semantic_type\": \"\",\n        \"description\": \"\"\n      }\n    },\n    {\n      \"column\": \"Gender\",\n      \"properties\": {\n        \"dtype\": \"category\",\n        \"num_unique_values\": 2,\n        \"samples\": [\n          \"Male\",\n          \"Female\"\n        ],\n        \"semantic_type\": \"\",\n        \"description\": \"\"\n      }\n    },\n    {\n      \"column\": \"Age\",\n      \"properties\": {\n        \"dtype\": \"number\",\n        \"std\": 10,\n        \"min\": 18,\n        \"max\": 92,\n        \"num_unique_values\": 70,\n        \"samples\": [\n          61,\n          42\n        ],\n        \"semantic_type\": \"\",\n        \"description\": \"\"\n      }\n    },\n    {\n      \"column\": \"Tenure\",\n      \"properties\": {\n        \"dtype\": \"number\",\n        \"std\": 2,\n        \"min\": 0,\n        \"max\": 10,\n        \"num_unique_values\": 11,\n        \"samples\": [\n          6,\n          2\n        ],\n        \"semantic_type\": \"\",\n        \"description\": \"\"\n      }\n    },\n    {\n      \"column\": \"Balance\",\n      \"properties\": {\n        \"dtype\": \"number\",\n        \"std\": 62397.40520238623,\n        \"min\": 0.0,\n        \"max\": 250898.09,\n        \"num_unique_values\": 6382,\n        \"samples\": [\n          117707.18,\n          133050.97\n        ],\n        \"semantic_type\": \"\",\n        \"description\": \"\"\n      }\n    },\n    {\n      \"column\": \"NumOfProducts\",\n      \"properties\": {\n        \"dtype\": \"number\",\n        \"std\": 0,\n        \"min\": 1,\n        \"max\": 4,\n        \"num_unique_values\": 4,\n        \"samples\": [\n          3,\n          4\n        ],\n        \"semantic_type\": \"\",\n        \"description\": \"\"\n      }\n    },\n    {\n      \"column\": \"HasCrCard\",\n      \"properties\": {\n        \"dtype\": \"number\",\n        \"std\": 0,\n        \"min\": 0,\n        \"max\": 1,\n        \"num_unique_values\": 2,\n        \"samples\": [\n          0,\n          1\n        ],\n        \"semantic_type\": \"\",\n        \"description\": \"\"\n      }\n    },\n    {\n      \"column\": \"IsActiveMember\",\n      \"properties\": {\n        \"dtype\": \"number\",\n        \"std\": 0,\n        \"min\": 0,\n        \"max\": 1,\n        \"num_unique_values\": 2,\n        \"samples\": [\n          0,\n          1\n        ],\n        \"semantic_type\": \"\",\n        \"description\": \"\"\n      }\n    },\n    {\n      \"column\": \"EstimatedSalary\",\n      \"properties\": {\n        \"dtype\": \"number\",\n        \"std\": 57510.49281769822,\n        \"min\": 11.58,\n        \"max\": 199992.48,\n        \"num_unique_values\": 9999,\n        \"samples\": [\n          100809.99,\n          95273.73\n        ],\n        \"semantic_type\": \"\",\n        \"description\": \"\"\n      }\n    },\n    {\n      \"column\": \"Exited\",\n      \"properties\": {\n        \"dtype\": \"number\",\n        \"std\": 0,\n        \"min\": 0,\n        \"max\": 1,\n        \"num_unique_values\": 2,\n        \"samples\": [\n          0,\n          1\n        ],\n        \"semantic_type\": \"\",\n        \"description\": \"\"\n      }\n    }\n  ]\n}"
            }
          },
          "metadata": {},
          "execution_count": 2
        }
      ]
    },
    {
      "cell_type": "code",
      "source": [
        "df.drop('RowNumber',axis='columns',inplace=True)"
      ],
      "metadata": {
        "id": "q_M4Qm5CQ9mF"
      },
      "execution_count": null,
      "outputs": []
    },
    {
      "cell_type": "code",
      "source": [
        "df.drop('CustomerId',axis='columns',inplace=True)"
      ],
      "metadata": {
        "id": "h3JTBd7WRUoR"
      },
      "execution_count": null,
      "outputs": []
    },
    {
      "cell_type": "code",
      "source": [
        "df.drop('Surname',axis='columns',inplace=True)"
      ],
      "metadata": {
        "id": "m0-plRhMRYFb"
      },
      "execution_count": null,
      "outputs": []
    },
    {
      "cell_type": "code",
      "source": [
        "for i in df:\n",
        "  print(f'{i} : {df[i].unique()}')"
      ],
      "metadata": {
        "colab": {
          "base_uri": "https://localhost:8080/"
        },
        "id": "tjqKHmWzQaou",
        "outputId": "65cd2532-329c-498e-9a0e-8f1f61540896"
      },
      "execution_count": null,
      "outputs": [
        {
          "output_type": "stream",
          "name": "stdout",
          "text": [
            "CreditScore : [619 608 502 699 850 645 822 376 501 684 528 497 476 549 635 616 653 587\n",
            " 726 732 636 510 669 846 577 756 571 574 411 591 533 553 520 722 475 490\n",
            " 804 582 472 465 556 834 660 776 829 637 550 698 585 788 655 601 656 725\n",
            " 511 614 742 687 555 603 751 581 735 661 675 738 813 657 604 519 664 678\n",
            " 757 416 665 777 543 506 493 652 750 729 646 647 808 524 769 730 515 773\n",
            " 814 710 413 623 670 622 785 605 479 685 538 562 721 628 668 828 674 625\n",
            " 432 770 758 795 686 789 589 461 584 579 663 682 793 691 485 650 754 535\n",
            " 716 539 706 586 631 717 800 683 704 615 667 484 480 578 512 606 597 778\n",
            " 514 525 715 580 807 521 759 516 711 618 643 671 689 620 676 572 695 592\n",
            " 567 694 547 594 673 610 767 763 712 703 662 659 523 772 545 634 739 771\n",
            " 681 544 696 766 727 693 557 531 498 651 791 733 811 707 714 782 775 799\n",
            " 602 744 588 747 583 627 731 629 438 642 806 474 559 429 680 749 734 644\n",
            " 626 649 805 718 840 630 654 762 568 613 522 737 648 443 640 540 460 593\n",
            " 801 611 802 745 483 690 492 709 705 560 752 701 537 487 596 702 486 724\n",
            " 548 464 790 534 748 494 590 468 509 818 816 536 753 774 621 569 658 798\n",
            " 641 542 692 639 765 570 638 599 632 779 527 564 833 504 842 508 417 598\n",
            " 741 607 761 848 546 439 755 760 526 713 700 666 566 495 688 612 477 427\n",
            " 839 819 720 459 503 624 529 563 482 796 445 746 786 554 672 787 499 844\n",
            " 450 815 838 803 736 633 600 679 517 792 743 488 421 841 708 507 505 456\n",
            " 435 561 518 565 728 784 552 609 764 697 723 551 444 719 496 541 830 812\n",
            " 677 420 595 617 809 500 826 434 513 478 797 363 399 463 780 452 575 837\n",
            " 794 824 428 823 781 849 489 431 457 768 831 359 820 573 576 558 817 449\n",
            " 440 415 821 530 350 446 425 740 481 783 358 845 451 458 469 423 404 836\n",
            " 473 835 466 491 351 827 843 365 532 414 453 471 401 810 832 470 447 422\n",
            " 825 430 436 426 408 847 418 437 410 454 407 455 462 386 405 383 395 467\n",
            " 433 442 424 448 441 367 412 382 373 419]\n",
            "Geography : ['France' 'Spain' 'Germany']\n",
            "Gender : ['Female' 'Male']\n",
            "Age : [42 41 39 43 44 50 29 27 31 24 34 25 35 45 58 32 38 46 36 33 40 51 61 49\n",
            " 37 19 66 56 26 21 55 75 22 30 28 65 48 52 57 73 47 54 72 20 67 79 62 53\n",
            " 80 59 68 23 60 70 63 64 18 82 69 74 71 76 77 88 85 84 78 81 92 83]\n",
            "Tenure : [ 2  1  8  7  4  6  3 10  5  9  0]\n",
            "Balance : [     0.    83807.86 159660.8  ...  57369.61  75075.31 130142.79]\n",
            "NumOfProducts : [1 3 2 4]\n",
            "HasCrCard : [1 0]\n",
            "IsActiveMember : [1 0]\n",
            "EstimatedSalary : [101348.88 112542.58 113931.57 ...  42085.58  92888.52  38190.78]\n",
            "Exited : [1 0]\n"
          ]
        }
      ]
    },
    {
      "cell_type": "code",
      "source": [
        "df = pd.get_dummies(data=df,columns=['Geography'],dtype=int)"
      ],
      "metadata": {
        "id": "tU4a_Ah3SEYn"
      },
      "execution_count": null,
      "outputs": []
    },
    {
      "cell_type": "code",
      "source": [
        "df['Gender'].replace({'Female':0,'Male':1},inplace=True)"
      ],
      "metadata": {
        "id": "rWefa_hYSjpV"
      },
      "execution_count": null,
      "outputs": []
    },
    {
      "cell_type": "code",
      "source": [
        "df.dtypes"
      ],
      "metadata": {
        "colab": {
          "base_uri": "https://localhost:8080/",
          "height": 491
        },
        "id": "dlTtOqAoS2Ni",
        "outputId": "58330187-da4e-4669-9c74-e933cdba060f"
      },
      "execution_count": null,
      "outputs": [
        {
          "output_type": "execute_result",
          "data": {
            "text/plain": [
              "CreditScore            int64\n",
              "Gender                 int64\n",
              "Age                    int64\n",
              "Tenure                 int64\n",
              "Balance              float64\n",
              "NumOfProducts          int64\n",
              "HasCrCard              int64\n",
              "IsActiveMember         int64\n",
              "EstimatedSalary      float64\n",
              "Exited                 int64\n",
              "Geography_France       int64\n",
              "Geography_Germany      int64\n",
              "Geography_Spain        int64\n",
              "dtype: object"
            ],
            "text/html": [
              "<div>\n",
              "<style scoped>\n",
              "    .dataframe tbody tr th:only-of-type {\n",
              "        vertical-align: middle;\n",
              "    }\n",
              "\n",
              "    .dataframe tbody tr th {\n",
              "        vertical-align: top;\n",
              "    }\n",
              "\n",
              "    .dataframe thead th {\n",
              "        text-align: right;\n",
              "    }\n",
              "</style>\n",
              "<table border=\"1\" class=\"dataframe\">\n",
              "  <thead>\n",
              "    <tr style=\"text-align: right;\">\n",
              "      <th></th>\n",
              "      <th>0</th>\n",
              "    </tr>\n",
              "  </thead>\n",
              "  <tbody>\n",
              "    <tr>\n",
              "      <th>CreditScore</th>\n",
              "      <td>int64</td>\n",
              "    </tr>\n",
              "    <tr>\n",
              "      <th>Gender</th>\n",
              "      <td>int64</td>\n",
              "    </tr>\n",
              "    <tr>\n",
              "      <th>Age</th>\n",
              "      <td>int64</td>\n",
              "    </tr>\n",
              "    <tr>\n",
              "      <th>Tenure</th>\n",
              "      <td>int64</td>\n",
              "    </tr>\n",
              "    <tr>\n",
              "      <th>Balance</th>\n",
              "      <td>float64</td>\n",
              "    </tr>\n",
              "    <tr>\n",
              "      <th>NumOfProducts</th>\n",
              "      <td>int64</td>\n",
              "    </tr>\n",
              "    <tr>\n",
              "      <th>HasCrCard</th>\n",
              "      <td>int64</td>\n",
              "    </tr>\n",
              "    <tr>\n",
              "      <th>IsActiveMember</th>\n",
              "      <td>int64</td>\n",
              "    </tr>\n",
              "    <tr>\n",
              "      <th>EstimatedSalary</th>\n",
              "      <td>float64</td>\n",
              "    </tr>\n",
              "    <tr>\n",
              "      <th>Exited</th>\n",
              "      <td>int64</td>\n",
              "    </tr>\n",
              "    <tr>\n",
              "      <th>Geography_France</th>\n",
              "      <td>int64</td>\n",
              "    </tr>\n",
              "    <tr>\n",
              "      <th>Geography_Germany</th>\n",
              "      <td>int64</td>\n",
              "    </tr>\n",
              "    <tr>\n",
              "      <th>Geography_Spain</th>\n",
              "      <td>int64</td>\n",
              "    </tr>\n",
              "  </tbody>\n",
              "</table>\n",
              "</div><br><label><b>dtype:</b> object</label>"
            ]
          },
          "metadata": {},
          "execution_count": 28
        }
      ]
    },
    {
      "cell_type": "code",
      "source": [
        "from sklearn.model_selection import train_test_split\n",
        "x_train, x_test, y_train, y_test = train_test_split(df.drop(['Exited'], axis=1), df['Exited'], test_size=0.2,random_state=42)"
      ],
      "metadata": {
        "id": "MV2gc6G-QJYs"
      },
      "execution_count": null,
      "outputs": []
    },
    {
      "cell_type": "code",
      "source": [
        "x_train.shape"
      ],
      "metadata": {
        "colab": {
          "base_uri": "https://localhost:8080/"
        },
        "id": "AIkvfmIiQYJF",
        "outputId": "5e30d182-ee19-4273-9861-86a29d403939"
      },
      "execution_count": null,
      "outputs": [
        {
          "output_type": "execute_result",
          "data": {
            "text/plain": [
              "(8000, 12)"
            ]
          },
          "metadata": {},
          "execution_count": 30
        }
      ]
    },
    {
      "cell_type": "code",
      "source": [
        "import keras.layers\n",
        "from keras.models import Sequential\n",
        "from keras.layers import Dense\n",
        "from keras.layers import LeakyReLU,PReLU,ELU\n",
        "from keras.layers import Dropout\n",
        "\n",
        "model = Sequential()\n",
        "model.add(Dense(units=6,kernel_initializer='he_uniform',activation='relu',input_dim=12))\n",
        "model.add(Dense(units=6,kernel_initializer='he_uniform',activation='relu'))\n",
        "model.add(Dense(units=1,kernel_initializer='glorot_uniform',activation='sigmoid'))\n",
        "\n",
        "model.compile(optimizer='adam', loss='binary_crossentropy', metrics=['accuracy'])\n",
        "# model.fit(x_train,y_train,validation_split=0.33,batch_size=10,epochs=10)\n"
      ],
      "metadata": {
        "id": "yrdO8IUKTA-K"
      },
      "execution_count": null,
      "outputs": []
    },
    {
      "cell_type": "code",
      "source": [
        "from keras.callbacks import EarlyStopping,ModelCheckpoint\n",
        "model2 = Sequential()\n",
        "model2.add(Dense(units=16, input_shape=(11,), kernel_initializer='random_uniform', activation='relu'))\n",
        "model2.add(Dense(units=32, kernel_initializer='he_uniform', activation='relu'))\n",
        "model2.add(Dense(units=64, kernel_initializer='he_uniform', activation='relu'))\n",
        "model2.add(Dense(units=1, kernel_initializer='he_uniform'))\n",
        "\n"
      ],
      "metadata": {
        "id": "Si1gybEIUFIB"
      },
      "execution_count": null,
      "outputs": []
    },
    {
      "cell_type": "code",
      "source": [
        "model2.compile(loss='mean_squared_error',optimizer='adam',metrics=['mse'])"
      ],
      "metadata": {
        "id": "CV3lDmrfZwel"
      },
      "execution_count": null,
      "outputs": []
    },
    {
      "cell_type": "code",
      "source": [
        "early_stop = EarlyStopping(\n",
        "    monitor='val_loss',\n",
        "    patience=5,\n",
        "    restore_best_weights=True,\n",
        "    verbose=1\n",
        ")"
      ],
      "metadata": {
        "id": "Wh-AIv7nXL5q"
      },
      "execution_count": null,
      "outputs": []
    },
    {
      "cell_type": "code",
      "source": [
        "checkpoint = ModelCheckpoint(\n",
        "    'best_model.keras', #saving the model\n",
        "    monitor='val_loss',\n",
        "    save_best_only=True,\n",
        "    verbose=1\n",
        ")"
      ],
      "metadata": {
        "id": "akUgPyHeYfq_"
      },
      "execution_count": null,
      "outputs": []
    },
    {
      "cell_type": "code",
      "source": [
        "model.fit(x_train,y_train,epochs=100,batch_size=20,validation_data=(x_test,y_test),callbacks=[early_stop,checkpoint])\n"
      ],
      "metadata": {
        "colab": {
          "base_uri": "https://localhost:8080/"
        },
        "id": "C4-PS191aRe2",
        "outputId": "02985634-0db4-440b-8169-8431202c4ae0"
      },
      "execution_count": null,
      "outputs": [
        {
          "output_type": "stream",
          "name": "stdout",
          "text": [
            "Epoch 1/100\n",
            "\u001b[1m374/400\u001b[0m \u001b[32m━━━━━━━━━━━━━━━━━━\u001b[0m\u001b[37m━━\u001b[0m \u001b[1m0s\u001b[0m 2ms/step - accuracy: 0.2987 - loss: 26800.9355\n",
            "Epoch 1: val_loss improved from inf to 132.94705, saving model to best_model.keras\n",
            "\u001b[1m400/400\u001b[0m \u001b[32m━━━━━━━━━━━━━━━━━━━━\u001b[0m\u001b[37m\u001b[0m \u001b[1m2s\u001b[0m 3ms/step - accuracy: 0.3093 - loss: 25731.1211 - val_accuracy: 0.6080 - val_loss: 132.9471\n",
            "Epoch 2/100\n",
            "\u001b[1m391/400\u001b[0m \u001b[32m━━━━━━━━━━━━━━━━━━━\u001b[0m\u001b[37m━\u001b[0m \u001b[1m0s\u001b[0m 3ms/step - accuracy: 0.6997 - loss: 57.3036\n",
            "Epoch 2: val_loss improved from 132.94705 to 8.59818, saving model to best_model.keras\n",
            "\u001b[1m400/400\u001b[0m \u001b[32m━━━━━━━━━━━━━━━━━━━━\u001b[0m\u001b[37m\u001b[0m \u001b[1m3s\u001b[0m 4ms/step - accuracy: 0.6994 - loss: 56.7164 - val_accuracy: 0.2685 - val_loss: 8.5982\n",
            "Epoch 3/100\n",
            "\u001b[1m400/400\u001b[0m \u001b[32m━━━━━━━━━━━━━━━━━━━━\u001b[0m\u001b[37m\u001b[0m \u001b[1m0s\u001b[0m 2ms/step - accuracy: 0.6638 - loss: 34.2392\n",
            "Epoch 3: val_loss did not improve from 8.59818\n",
            "\u001b[1m400/400\u001b[0m \u001b[32m━━━━━━━━━━━━━━━━━━━━\u001b[0m\u001b[37m\u001b[0m \u001b[1m2s\u001b[0m 2ms/step - accuracy: 0.6638 - loss: 34.2285 - val_accuracy: 0.1970 - val_loss: 20.3226\n",
            "Epoch 4/100\n",
            "\u001b[1m396/400\u001b[0m \u001b[32m━━━━━━━━━━━━━━━━━━━\u001b[0m\u001b[37m━\u001b[0m \u001b[1m0s\u001b[0m 2ms/step - accuracy: 0.6706 - loss: 20.2515\n",
            "Epoch 4: val_loss improved from 8.59818 to 3.29181, saving model to best_model.keras\n",
            "\u001b[1m400/400\u001b[0m \u001b[32m━━━━━━━━━━━━━━━━━━━━\u001b[0m\u001b[37m\u001b[0m \u001b[1m1s\u001b[0m 2ms/step - accuracy: 0.6706 - loss: 20.2873 - val_accuracy: 0.7640 - val_loss: 3.2918\n",
            "Epoch 5/100\n",
            "\u001b[1m394/400\u001b[0m \u001b[32m━━━━━━━━━━━━━━━━━━━\u001b[0m\u001b[37m━\u001b[0m \u001b[1m0s\u001b[0m 2ms/step - accuracy: 0.6807 - loss: 23.0643\n",
            "Epoch 5: val_loss did not improve from 3.29181\n",
            "\u001b[1m400/400\u001b[0m \u001b[32m━━━━━━━━━━━━━━━━━━━━\u001b[0m\u001b[37m\u001b[0m \u001b[1m1s\u001b[0m 2ms/step - accuracy: 0.6804 - loss: 23.0453 - val_accuracy: 0.8010 - val_loss: 41.9766\n",
            "Epoch 6/100\n",
            "\u001b[1m371/400\u001b[0m \u001b[32m━━━━━━━━━━━━━━━━━━\u001b[0m\u001b[37m━━\u001b[0m \u001b[1m0s\u001b[0m 2ms/step - accuracy: 0.6611 - loss: 18.7541\n",
            "Epoch 6: val_loss did not improve from 3.29181\n",
            "\u001b[1m400/400\u001b[0m \u001b[32m━━━━━━━━━━━━━━━━━━━━\u001b[0m\u001b[37m\u001b[0m \u001b[1m1s\u001b[0m 2ms/step - accuracy: 0.6615 - loss: 18.5751 - val_accuracy: 0.4560 - val_loss: 20.1997\n",
            "Epoch 7/100\n",
            "\u001b[1m380/400\u001b[0m \u001b[32m━━━━━━━━━━━━━━━━━━━\u001b[0m\u001b[37m━\u001b[0m \u001b[1m0s\u001b[0m 2ms/step - accuracy: 0.6699 - loss: 18.4697\n",
            "Epoch 7: val_loss did not improve from 3.29181\n",
            "\u001b[1m400/400\u001b[0m \u001b[32m━━━━━━━━━━━━━━━━━━━━\u001b[0m\u001b[37m\u001b[0m \u001b[1m1s\u001b[0m 2ms/step - accuracy: 0.6694 - loss: 18.5433 - val_accuracy: 0.8010 - val_loss: 32.2490\n",
            "Epoch 8/100\n",
            "\u001b[1m388/400\u001b[0m \u001b[32m━━━━━━━━━━━━━━━━━━━\u001b[0m\u001b[37m━\u001b[0m \u001b[1m0s\u001b[0m 2ms/step - accuracy: 0.6761 - loss: 16.7957\n",
            "Epoch 8: val_loss did not improve from 3.29181\n",
            "\u001b[1m400/400\u001b[0m \u001b[32m━━━━━━━━━━━━━━━━━━━━\u001b[0m\u001b[37m\u001b[0m \u001b[1m1s\u001b[0m 2ms/step - accuracy: 0.6761 - loss: 16.8213 - val_accuracy: 0.7985 - val_loss: 11.2147\n",
            "Epoch 9/100\n",
            "\u001b[1m386/400\u001b[0m \u001b[32m━━━━━━━━━━━━━━━━━━━\u001b[0m\u001b[37m━\u001b[0m \u001b[1m0s\u001b[0m 2ms/step - accuracy: 0.6659 - loss: 17.2622\n",
            "Epoch 9: val_loss did not improve from 3.29181\n",
            "\u001b[1m400/400\u001b[0m \u001b[32m━━━━━━━━━━━━━━━━━━━━\u001b[0m\u001b[37m\u001b[0m \u001b[1m1s\u001b[0m 2ms/step - accuracy: 0.6659 - loss: 17.3663 - val_accuracy: 0.7930 - val_loss: 7.6079\n",
            "Epoch 9: early stopping\n",
            "Restoring model weights from the end of the best epoch: 4.\n"
          ]
        },
        {
          "output_type": "execute_result",
          "data": {
            "text/plain": [
              "<keras.src.callbacks.history.History at 0x7d02e98afe50>"
            ]
          },
          "metadata": {},
          "execution_count": 46
        }
      ]
    },
    {
      "cell_type": "code",
      "source": [
        "model.summary()"
      ],
      "metadata": {
        "colab": {
          "base_uri": "https://localhost:8080/",
          "height": 241
        },
        "id": "BocaoxiTbeNq",
        "outputId": "3a97a777-21c1-4fce-dd8e-71196c7c2942"
      },
      "execution_count": null,
      "outputs": [
        {
          "output_type": "display_data",
          "data": {
            "text/plain": [
              "\u001b[1mModel: \"sequential_7\"\u001b[0m\n"
            ],
            "text/html": [
              "<pre style=\"white-space:pre;overflow-x:auto;line-height:normal;font-family:Menlo,'DejaVu Sans Mono',consolas,'Courier New',monospace\"><span style=\"font-weight: bold\">Model: \"sequential_7\"</span>\n",
              "</pre>\n"
            ]
          },
          "metadata": {}
        },
        {
          "output_type": "display_data",
          "data": {
            "text/plain": [
              "┏━━━━━━━━━━━━━━━━━━━━━━━━━━━━━━━━━┳━━━━━━━━━━━━━━━━━━━━━━━━┳━━━━━━━━━━━━━━━┓\n",
              "┃\u001b[1m \u001b[0m\u001b[1mLayer (type)                   \u001b[0m\u001b[1m \u001b[0m┃\u001b[1m \u001b[0m\u001b[1mOutput Shape          \u001b[0m\u001b[1m \u001b[0m┃\u001b[1m \u001b[0m\u001b[1m      Param #\u001b[0m\u001b[1m \u001b[0m┃\n",
              "┡━━━━━━━━━━━━━━━━━━━━━━━━━━━━━━━━━╇━━━━━━━━━━━━━━━━━━━━━━━━╇━━━━━━━━━━━━━━━┩\n",
              "│ dense_19 (\u001b[38;5;33mDense\u001b[0m)                │ (\u001b[38;5;45mNone\u001b[0m, \u001b[38;5;34m6\u001b[0m)              │            \u001b[38;5;34m78\u001b[0m │\n",
              "├─────────────────────────────────┼────────────────────────┼───────────────┤\n",
              "│ dense_20 (\u001b[38;5;33mDense\u001b[0m)                │ (\u001b[38;5;45mNone\u001b[0m, \u001b[38;5;34m6\u001b[0m)              │            \u001b[38;5;34m42\u001b[0m │\n",
              "├─────────────────────────────────┼────────────────────────┼───────────────┤\n",
              "│ dense_21 (\u001b[38;5;33mDense\u001b[0m)                │ (\u001b[38;5;45mNone\u001b[0m, \u001b[38;5;34m1\u001b[0m)              │             \u001b[38;5;34m7\u001b[0m │\n",
              "└─────────────────────────────────┴────────────────────────┴───────────────┘\n"
            ],
            "text/html": [
              "<pre style=\"white-space:pre;overflow-x:auto;line-height:normal;font-family:Menlo,'DejaVu Sans Mono',consolas,'Courier New',monospace\">┏━━━━━━━━━━━━━━━━━━━━━━━━━━━━━━━━━┳━━━━━━━━━━━━━━━━━━━━━━━━┳━━━━━━━━━━━━━━━┓\n",
              "┃<span style=\"font-weight: bold\"> Layer (type)                    </span>┃<span style=\"font-weight: bold\"> Output Shape           </span>┃<span style=\"font-weight: bold\">       Param # </span>┃\n",
              "┡━━━━━━━━━━━━━━━━━━━━━━━━━━━━━━━━━╇━━━━━━━━━━━━━━━━━━━━━━━━╇━━━━━━━━━━━━━━━┩\n",
              "│ dense_19 (<span style=\"color: #0087ff; text-decoration-color: #0087ff\">Dense</span>)                │ (<span style=\"color: #00d7ff; text-decoration-color: #00d7ff\">None</span>, <span style=\"color: #00af00; text-decoration-color: #00af00\">6</span>)              │            <span style=\"color: #00af00; text-decoration-color: #00af00\">78</span> │\n",
              "├─────────────────────────────────┼────────────────────────┼───────────────┤\n",
              "│ dense_20 (<span style=\"color: #0087ff; text-decoration-color: #0087ff\">Dense</span>)                │ (<span style=\"color: #00d7ff; text-decoration-color: #00d7ff\">None</span>, <span style=\"color: #00af00; text-decoration-color: #00af00\">6</span>)              │            <span style=\"color: #00af00; text-decoration-color: #00af00\">42</span> │\n",
              "├─────────────────────────────────┼────────────────────────┼───────────────┤\n",
              "│ dense_21 (<span style=\"color: #0087ff; text-decoration-color: #0087ff\">Dense</span>)                │ (<span style=\"color: #00d7ff; text-decoration-color: #00d7ff\">None</span>, <span style=\"color: #00af00; text-decoration-color: #00af00\">1</span>)              │             <span style=\"color: #00af00; text-decoration-color: #00af00\">7</span> │\n",
              "└─────────────────────────────────┴────────────────────────┴───────────────┘\n",
              "</pre>\n"
            ]
          },
          "metadata": {}
        },
        {
          "output_type": "display_data",
          "data": {
            "text/plain": [
              "\u001b[1m Total params: \u001b[0m\u001b[38;5;34m383\u001b[0m (1.50 KB)\n"
            ],
            "text/html": [
              "<pre style=\"white-space:pre;overflow-x:auto;line-height:normal;font-family:Menlo,'DejaVu Sans Mono',consolas,'Courier New',monospace\"><span style=\"font-weight: bold\"> Total params: </span><span style=\"color: #00af00; text-decoration-color: #00af00\">383</span> (1.50 KB)\n",
              "</pre>\n"
            ]
          },
          "metadata": {}
        },
        {
          "output_type": "display_data",
          "data": {
            "text/plain": [
              "\u001b[1m Trainable params: \u001b[0m\u001b[38;5;34m127\u001b[0m (508.00 B)\n"
            ],
            "text/html": [
              "<pre style=\"white-space:pre;overflow-x:auto;line-height:normal;font-family:Menlo,'DejaVu Sans Mono',consolas,'Courier New',monospace\"><span style=\"font-weight: bold\"> Trainable params: </span><span style=\"color: #00af00; text-decoration-color: #00af00\">127</span> (508.00 B)\n",
              "</pre>\n"
            ]
          },
          "metadata": {}
        },
        {
          "output_type": "display_data",
          "data": {
            "text/plain": [
              "\u001b[1m Non-trainable params: \u001b[0m\u001b[38;5;34m0\u001b[0m (0.00 B)\n"
            ],
            "text/html": [
              "<pre style=\"white-space:pre;overflow-x:auto;line-height:normal;font-family:Menlo,'DejaVu Sans Mono',consolas,'Courier New',monospace\"><span style=\"font-weight: bold\"> Non-trainable params: </span><span style=\"color: #00af00; text-decoration-color: #00af00\">0</span> (0.00 B)\n",
              "</pre>\n"
            ]
          },
          "metadata": {}
        },
        {
          "output_type": "display_data",
          "data": {
            "text/plain": [
              "\u001b[1m Optimizer params: \u001b[0m\u001b[38;5;34m256\u001b[0m (1.00 KB)\n"
            ],
            "text/html": [
              "<pre style=\"white-space:pre;overflow-x:auto;line-height:normal;font-family:Menlo,'DejaVu Sans Mono',consolas,'Courier New',monospace\"><span style=\"font-weight: bold\"> Optimizer params: </span><span style=\"color: #00af00; text-decoration-color: #00af00\">256</span> (1.00 KB)\n",
              "</pre>\n"
            ]
          },
          "metadata": {}
        }
      ]
    },
    {
      "cell_type": "code",
      "source": [
        "model3 = Sequential()\n",
        "model3.add(Dense(units=16, input_shape=(11,), kernel_initializer='random_uniform', activation='relu'))\n",
        "model3.add(Dense(units=16, input_shape=(11,), kernel_initializer='glorot_uniform', activation='tanh'))\n",
        "model3.add(Dense(units=32, kernel_initializer='lecun_normal', activation='selu'))\n",
        "model3.add(Dense(units=64, kernel_initializer='he_normal', activation='elu'))\n",
        "model3.add(Dense(units=1, kernel_initializer='glorot_normal', activation='sigmoid'))\n",
        "\n"
      ],
      "metadata": {
        "id": "1u1aosbsbhpN"
      },
      "execution_count": null,
      "outputs": []
    },
    {
      "cell_type": "code",
      "source": [
        "model3.compile(loss='mean_squared_error',optimizer='adam',metrics=['mse'])"
      ],
      "metadata": {
        "id": "E-ABgt8pcOcN"
      },
      "execution_count": null,
      "outputs": []
    },
    {
      "cell_type": "code",
      "source": [
        "early_stop1 = EarlyStopping(\n",
        "    monitor='val_loss',\n",
        "    patience=10,\n",
        "    restore_best_weights=True,\n",
        "    verbose=1\n",
        ")"
      ],
      "metadata": {
        "id": "0j6ZfOg6cRlP"
      },
      "execution_count": null,
      "outputs": []
    },
    {
      "cell_type": "markdown",
      "source": [
        "1. monitor='val_loss'\n",
        "What it does: This tells Keras to watch the validation loss during training.\n",
        "\n",
        "Purpose: When the validation loss stops improving, we want to stop training to avoid overfitting.\n",
        "\n",
        "You can change this to 'val_accuracy', 'loss', or any other metric being tracked."
      ],
      "metadata": {
        "id": "KbZv2DXpdOY9"
      }
    },
    {
      "cell_type": "markdown",
      "source": [
        "2. patience=10\n",
        "What it does: The training will continue for 10 more epochs after the last improvement in val_loss.\n",
        "\n",
        "Purpose: Gives the model some time to improve before stopping early. Avoids quitting too soon due to temporary plateaus or noise.\n",
        "\n",
        "Higher value = more tolerance for fluctuations."
      ],
      "metadata": {
        "id": "YlygDVGadccX"
      }
    },
    {
      "cell_type": "markdown",
      "source": [
        "3. restore_best_weights=True\n",
        "What it does: After stopping early, the model will restore the weights from the epoch where val_loss was best.\n",
        "\n",
        "Purpose: Ensures the final model is the one that performed best on validation data, not just the last one trained.\n",
        "\n",
        "Crucial for getting the best generalization performance.\n",
        "\n"
      ],
      "metadata": {
        "id": "dYEjWYkCdkuf"
      }
    },
    {
      "cell_type": "code",
      "source": [
        "checkpoint1 = ModelCheckpoint(\n",
        "    'best_model1.keras', #saving the model\n",
        "    monitor='val_loss',\n",
        "    save_best_only=True,\n",
        "    verbose=1\n",
        ")"
      ],
      "metadata": {
        "id": "5dg_zodvcczl"
      },
      "execution_count": null,
      "outputs": []
    },
    {
      "cell_type": "code",
      "source": [
        "model.fit(x_train,y_train,epochs=100,batch_size=20,validation_data=(x_test,y_test),callbacks=[early_stop1,checkpoint1])"
      ],
      "metadata": {
        "colab": {
          "base_uri": "https://localhost:8080/"
        },
        "id": "JFJQrbn7cgsI",
        "outputId": "f0b0cd90-b419-4011-c54a-766ce9348783"
      },
      "execution_count": null,
      "outputs": [
        {
          "output_type": "stream",
          "name": "stdout",
          "text": [
            "Epoch 1/100\n",
            "\u001b[1m392/400\u001b[0m \u001b[32m━━━━━━━━━━━━━━━━━━━\u001b[0m\u001b[37m━\u001b[0m \u001b[1m0s\u001b[0m 2ms/step - accuracy: 0.6788 - loss: 23.1966\n",
            "Epoch 1: val_loss improved from inf to 28.94807, saving model to best_model1.keras\n",
            "\u001b[1m400/400\u001b[0m \u001b[32m━━━━━━━━━━━━━━━━━━━━\u001b[0m\u001b[37m\u001b[0m \u001b[1m1s\u001b[0m 3ms/step - accuracy: 0.6786 - loss: 23.2000 - val_accuracy: 0.7995 - val_loss: 28.9481\n",
            "Epoch 2/100\n",
            "\u001b[1m390/400\u001b[0m \u001b[32m━━━━━━━━━━━━━━━━━━━\u001b[0m\u001b[37m━\u001b[0m \u001b[1m0s\u001b[0m 2ms/step - accuracy: 0.6709 - loss: 20.7256\n",
            "Epoch 2: val_loss improved from 28.94807 to 8.54221, saving model to best_model1.keras\n",
            "\u001b[1m400/400\u001b[0m \u001b[32m━━━━━━━━━━━━━━━━━━━━\u001b[0m\u001b[37m\u001b[0m \u001b[1m1s\u001b[0m 3ms/step - accuracy: 0.6708 - loss: 20.7605 - val_accuracy: 0.6155 - val_loss: 8.5422\n",
            "Epoch 3/100\n",
            "\u001b[1m384/400\u001b[0m \u001b[32m━━━━━━━━━━━━━━━━━━━\u001b[0m\u001b[37m━\u001b[0m \u001b[1m0s\u001b[0m 2ms/step - accuracy: 0.6753 - loss: 17.9896\n",
            "Epoch 3: val_loss did not improve from 8.54221\n",
            "\u001b[1m400/400\u001b[0m \u001b[32m━━━━━━━━━━━━━━━━━━━━\u001b[0m\u001b[37m\u001b[0m \u001b[1m1s\u001b[0m 3ms/step - accuracy: 0.6752 - loss: 18.0682 - val_accuracy: 0.1965 - val_loss: 44.2315\n",
            "Epoch 4/100\n",
            "\u001b[1m387/400\u001b[0m \u001b[32m━━━━━━━━━━━━━━━━━━━\u001b[0m\u001b[37m━\u001b[0m \u001b[1m0s\u001b[0m 2ms/step - accuracy: 0.6537 - loss: 22.1330\n",
            "Epoch 4: val_loss did not improve from 8.54221\n",
            "\u001b[1m400/400\u001b[0m \u001b[32m━━━━━━━━━━━━━━━━━━━━\u001b[0m\u001b[37m\u001b[0m \u001b[1m2s\u001b[0m 2ms/step - accuracy: 0.6541 - loss: 22.1794 - val_accuracy: 0.8010 - val_loss: 17.3228\n",
            "Epoch 5/100\n",
            "\u001b[1m395/400\u001b[0m \u001b[32m━━━━━━━━━━━━━━━━━━━\u001b[0m\u001b[37m━\u001b[0m \u001b[1m0s\u001b[0m 2ms/step - accuracy: 0.6703 - loss: 17.2716\n",
            "Epoch 5: val_loss did not improve from 8.54221\n",
            "\u001b[1m400/400\u001b[0m \u001b[32m━━━━━━━━━━━━━━━━━━━━\u001b[0m\u001b[37m\u001b[0m \u001b[1m1s\u001b[0m 3ms/step - accuracy: 0.6704 - loss: 17.2954 - val_accuracy: 0.8005 - val_loss: 20.0187\n",
            "Epoch 6/100\n",
            "\u001b[1m394/400\u001b[0m \u001b[32m━━━━━━━━━━━━━━━━━━━\u001b[0m\u001b[37m━\u001b[0m \u001b[1m0s\u001b[0m 2ms/step - accuracy: 0.6715 - loss: 17.3199\n",
            "Epoch 6: val_loss did not improve from 8.54221\n",
            "\u001b[1m400/400\u001b[0m \u001b[32m━━━━━━━━━━━━━━━━━━━━\u001b[0m\u001b[37m\u001b[0m \u001b[1m1s\u001b[0m 3ms/step - accuracy: 0.6714 - loss: 17.3488 - val_accuracy: 0.2210 - val_loss: 31.0695\n",
            "Epoch 7/100\n",
            "\u001b[1m393/400\u001b[0m \u001b[32m━━━━━━━━━━━━━━━━━━━\u001b[0m\u001b[37m━\u001b[0m \u001b[1m0s\u001b[0m 2ms/step - accuracy: 0.6563 - loss: 21.7152\n",
            "Epoch 7: val_loss improved from 8.54221 to 3.53130, saving model to best_model1.keras\n",
            "\u001b[1m400/400\u001b[0m \u001b[32m━━━━━━━━━━━━━━━━━━━━\u001b[0m\u001b[37m\u001b[0m \u001b[1m1s\u001b[0m 2ms/step - accuracy: 0.6565 - loss: 21.6373 - val_accuracy: 0.7345 - val_loss: 3.5313\n",
            "Epoch 8/100\n",
            "\u001b[1m396/400\u001b[0m \u001b[32m━━━━━━━━━━━━━━━━━━━\u001b[0m\u001b[37m━\u001b[0m \u001b[1m0s\u001b[0m 2ms/step - accuracy: 0.6587 - loss: 18.4939\n",
            "Epoch 8: val_loss did not improve from 3.53130\n",
            "\u001b[1m400/400\u001b[0m \u001b[32m━━━━━━━━━━━━━━━━━━━━\u001b[0m\u001b[37m\u001b[0m \u001b[1m1s\u001b[0m 3ms/step - accuracy: 0.6589 - loss: 18.4708 - val_accuracy: 0.7985 - val_loss: 4.7575\n",
            "Epoch 9/100\n",
            "\u001b[1m393/400\u001b[0m \u001b[32m━━━━━━━━━━━━━━━━━━━\u001b[0m\u001b[37m━\u001b[0m \u001b[1m0s\u001b[0m 2ms/step - accuracy: 0.6753 - loss: 11.5272\n",
            "Epoch 9: val_loss did not improve from 3.53130\n",
            "\u001b[1m400/400\u001b[0m \u001b[32m━━━━━━━━━━━━━━━━━━━━\u001b[0m\u001b[37m\u001b[0m \u001b[1m1s\u001b[0m 2ms/step - accuracy: 0.6753 - loss: 11.5377 - val_accuracy: 0.7975 - val_loss: 4.7870\n",
            "Epoch 10/100\n",
            "\u001b[1m392/400\u001b[0m \u001b[32m━━━━━━━━━━━━━━━━━━━\u001b[0m\u001b[37m━\u001b[0m \u001b[1m0s\u001b[0m 3ms/step - accuracy: 0.6725 - loss: 15.6945\n",
            "Epoch 10: val_loss did not improve from 3.53130\n",
            "\u001b[1m400/400\u001b[0m \u001b[32m━━━━━━━━━━━━━━━━━━━━\u001b[0m\u001b[37m\u001b[0m \u001b[1m2s\u001b[0m 3ms/step - accuracy: 0.6726 - loss: 15.6610 - val_accuracy: 0.8005 - val_loss: 5.1481\n",
            "Epoch 11/100\n",
            "\u001b[1m399/400\u001b[0m \u001b[32m━━━━━━━━━━━━━━━━━━━\u001b[0m\u001b[37m━\u001b[0m \u001b[1m0s\u001b[0m 3ms/step - accuracy: 0.6731 - loss: 14.6454\n",
            "Epoch 11: val_loss did not improve from 3.53130\n",
            "\u001b[1m400/400\u001b[0m \u001b[32m━━━━━━━━━━━━━━━━━━━━\u001b[0m\u001b[37m\u001b[0m \u001b[1m3s\u001b[0m 4ms/step - accuracy: 0.6731 - loss: 14.6455 - val_accuracy: 0.8005 - val_loss: 9.2834\n",
            "Epoch 12/100\n",
            "\u001b[1m392/400\u001b[0m \u001b[32m━━━━━━━━━━━━━━━━━━━\u001b[0m\u001b[37m━\u001b[0m \u001b[1m0s\u001b[0m 2ms/step - accuracy: 0.6679 - loss: 12.0961\n",
            "Epoch 12: val_loss improved from 3.53130 to 3.03852, saving model to best_model1.keras\n",
            "\u001b[1m400/400\u001b[0m \u001b[32m━━━━━━━━━━━━━━━━━━━━\u001b[0m\u001b[37m\u001b[0m \u001b[1m2s\u001b[0m 2ms/step - accuracy: 0.6680 - loss: 12.0628 - val_accuracy: 0.8005 - val_loss: 3.0385\n",
            "Epoch 13/100\n",
            "\u001b[1m397/400\u001b[0m \u001b[32m━━━━━━━━━━━━━━━━━━━\u001b[0m\u001b[37m━\u001b[0m \u001b[1m0s\u001b[0m 2ms/step - accuracy: 0.6728 - loss: 7.6276\n",
            "Epoch 13: val_loss did not improve from 3.03852\n",
            "\u001b[1m400/400\u001b[0m \u001b[32m━━━━━━━━━━━━━━━━━━━━\u001b[0m\u001b[37m\u001b[0m \u001b[1m1s\u001b[0m 2ms/step - accuracy: 0.6729 - loss: 7.6326 - val_accuracy: 0.8000 - val_loss: 13.5242\n",
            "Epoch 14/100\n",
            "\u001b[1m385/400\u001b[0m \u001b[32m━━━━━━━━━━━━━━━━━━━\u001b[0m\u001b[37m━\u001b[0m \u001b[1m0s\u001b[0m 2ms/step - accuracy: 0.6740 - loss: 14.5581\n",
            "Epoch 14: val_loss did not improve from 3.03852\n",
            "\u001b[1m400/400\u001b[0m \u001b[32m━━━━━━━━━━━━━━━━━━━━\u001b[0m\u001b[37m\u001b[0m \u001b[1m1s\u001b[0m 2ms/step - accuracy: 0.6740 - loss: 14.4360 - val_accuracy: 0.8000 - val_loss: 4.4114\n",
            "Epoch 15/100\n",
            "\u001b[1m393/400\u001b[0m \u001b[32m━━━━━━━━━━━━━━━━━━━\u001b[0m\u001b[37m━\u001b[0m \u001b[1m0s\u001b[0m 2ms/step - accuracy: 0.6719 - loss: 8.7603\n",
            "Epoch 15: val_loss did not improve from 3.03852\n",
            "\u001b[1m400/400\u001b[0m \u001b[32m━━━━━━━━━━━━━━━━━━━━\u001b[0m\u001b[37m\u001b[0m \u001b[1m1s\u001b[0m 3ms/step - accuracy: 0.6720 - loss: 8.7351 - val_accuracy: 0.8000 - val_loss: 3.0818\n",
            "Epoch 16/100\n",
            "\u001b[1m377/400\u001b[0m \u001b[32m━━━━━━━━━━━━━━━━━━\u001b[0m\u001b[37m━━\u001b[0m \u001b[1m0s\u001b[0m 2ms/step - accuracy: 0.6868 - loss: 6.9363\n",
            "Epoch 16: val_loss did not improve from 3.03852\n",
            "\u001b[1m400/400\u001b[0m \u001b[32m━━━━━━━━━━━━━━━━━━━━\u001b[0m\u001b[37m\u001b[0m \u001b[1m1s\u001b[0m 2ms/step - accuracy: 0.6865 - loss: 6.9583 - val_accuracy: 0.8000 - val_loss: 11.7057\n",
            "Epoch 17/100\n",
            "\u001b[1m371/400\u001b[0m \u001b[32m━━━━━━━━━━━━━━━━━━\u001b[0m\u001b[37m━━\u001b[0m \u001b[1m0s\u001b[0m 2ms/step - accuracy: 0.6779 - loss: 5.4973\n",
            "Epoch 17: val_loss improved from 3.03852 to 2.32294, saving model to best_model1.keras\n",
            "\u001b[1m400/400\u001b[0m \u001b[32m━━━━━━━━━━━━━━━━━━━━\u001b[0m\u001b[37m\u001b[0m \u001b[1m1s\u001b[0m 3ms/step - accuracy: 0.6786 - loss: 5.4371 - val_accuracy: 0.8000 - val_loss: 2.3229\n",
            "Epoch 18/100\n",
            "\u001b[1m389/400\u001b[0m \u001b[32m━━━━━━━━━━━━━━━━━━━\u001b[0m\u001b[37m━\u001b[0m \u001b[1m0s\u001b[0m 2ms/step - accuracy: 0.6738 - loss: 5.5255\n",
            "Epoch 18: val_loss improved from 2.32294 to 1.97780, saving model to best_model1.keras\n",
            "\u001b[1m400/400\u001b[0m \u001b[32m━━━━━━━━━━━━━━━━━━━━\u001b[0m\u001b[37m\u001b[0m \u001b[1m1s\u001b[0m 2ms/step - accuracy: 0.6740 - loss: 5.5327 - val_accuracy: 0.8015 - val_loss: 1.9778\n",
            "Epoch 19/100\n",
            "\u001b[1m391/400\u001b[0m \u001b[32m━━━━━━━━━━━━━━━━━━━\u001b[0m\u001b[37m━\u001b[0m \u001b[1m0s\u001b[0m 2ms/step - accuracy: 0.6787 - loss: 4.9855\n",
            "Epoch 19: val_loss did not improve from 1.97780\n",
            "\u001b[1m400/400\u001b[0m \u001b[32m━━━━━━━━━━━━━━━━━━━━\u001b[0m\u001b[37m\u001b[0m \u001b[1m1s\u001b[0m 2ms/step - accuracy: 0.6787 - loss: 4.9930 - val_accuracy: 0.7980 - val_loss: 2.7950\n",
            "Epoch 20/100\n",
            "\u001b[1m384/400\u001b[0m \u001b[32m━━━━━━━━━━━━━━━━━━━\u001b[0m\u001b[37m━\u001b[0m \u001b[1m0s\u001b[0m 2ms/step - accuracy: 0.6845 - loss: 4.5458\n",
            "Epoch 20: val_loss improved from 1.97780 to 1.16410, saving model to best_model1.keras\n",
            "\u001b[1m400/400\u001b[0m \u001b[32m━━━━━━━━━━━━━━━━━━━━\u001b[0m\u001b[37m\u001b[0m \u001b[1m1s\u001b[0m 3ms/step - accuracy: 0.6847 - loss: 4.5493 - val_accuracy: 0.4490 - val_loss: 1.1641\n",
            "Epoch 21/100\n",
            "\u001b[1m384/400\u001b[0m \u001b[32m━━━━━━━━━━━━━━━━━━━\u001b[0m\u001b[37m━\u001b[0m \u001b[1m0s\u001b[0m 3ms/step - accuracy: 0.6815 - loss: 3.6427\n",
            "Epoch 21: val_loss did not improve from 1.16410\n",
            "\u001b[1m400/400\u001b[0m \u001b[32m━━━━━━━━━━━━━━━━━━━━\u001b[0m\u001b[37m\u001b[0m \u001b[1m2s\u001b[0m 4ms/step - accuracy: 0.6818 - loss: 3.6462 - val_accuracy: 0.8035 - val_loss: 2.5854\n",
            "Epoch 22/100\n",
            "\u001b[1m390/400\u001b[0m \u001b[32m━━━━━━━━━━━━━━━━━━━\u001b[0m\u001b[37m━\u001b[0m \u001b[1m0s\u001b[0m 2ms/step - accuracy: 0.7031 - loss: 2.9600\n",
            "Epoch 22: val_loss did not improve from 1.16410\n",
            "\u001b[1m400/400\u001b[0m \u001b[32m━━━━━━━━━━━━━━━━━━━━\u001b[0m\u001b[37m\u001b[0m \u001b[1m2s\u001b[0m 2ms/step - accuracy: 0.7029 - loss: 2.9623 - val_accuracy: 0.3110 - val_loss: 3.1385\n",
            "Epoch 23/100\n",
            "\u001b[1m387/400\u001b[0m \u001b[32m━━━━━━━━━━━━━━━━━━━\u001b[0m\u001b[37m━\u001b[0m \u001b[1m0s\u001b[0m 2ms/step - accuracy: 0.7007 - loss: 2.7782\n",
            "Epoch 23: val_loss did not improve from 1.16410\n",
            "\u001b[1m400/400\u001b[0m \u001b[32m━━━━━━━━━━━━━━━━━━━━\u001b[0m\u001b[37m\u001b[0m \u001b[1m1s\u001b[0m 2ms/step - accuracy: 0.7009 - loss: 2.7711 - val_accuracy: 0.4370 - val_loss: 2.8026\n",
            "Epoch 24/100\n",
            "\u001b[1m374/400\u001b[0m \u001b[32m━━━━━━━━━━━━━━━━━━\u001b[0m\u001b[37m━━\u001b[0m \u001b[1m0s\u001b[0m 2ms/step - accuracy: 0.7066 - loss: 3.2157\n",
            "Epoch 24: val_loss did not improve from 1.16410\n",
            "\u001b[1m400/400\u001b[0m \u001b[32m━━━━━━━━━━━━━━━━━━━━\u001b[0m\u001b[37m\u001b[0m \u001b[1m1s\u001b[0m 2ms/step - accuracy: 0.7060 - loss: 3.2586 - val_accuracy: 0.7960 - val_loss: 1.1814\n",
            "Epoch 25/100\n",
            "\u001b[1m399/400\u001b[0m \u001b[32m━━━━━━━━━━━━━━━━━━━\u001b[0m\u001b[37m━\u001b[0m \u001b[1m0s\u001b[0m 2ms/step - accuracy: 0.6959 - loss: 2.5163\n",
            "Epoch 25: val_loss did not improve from 1.16410\n",
            "\u001b[1m400/400\u001b[0m \u001b[32m━━━━━━━━━━━━━━━━━━━━\u001b[0m\u001b[37m\u001b[0m \u001b[1m1s\u001b[0m 2ms/step - accuracy: 0.6959 - loss: 2.5161 - val_accuracy: 0.8035 - val_loss: 2.1712\n",
            "Epoch 26/100\n",
            "\u001b[1m383/400\u001b[0m \u001b[32m━━━━━━━━━━━━━━━━━━━\u001b[0m\u001b[37m━\u001b[0m \u001b[1m0s\u001b[0m 2ms/step - accuracy: 0.7053 - loss: 2.0472\n",
            "Epoch 26: val_loss improved from 1.16410 to 1.05351, saving model to best_model1.keras\n",
            "\u001b[1m400/400\u001b[0m \u001b[32m━━━━━━━━━━━━━━━━━━━━\u001b[0m\u001b[37m\u001b[0m \u001b[1m1s\u001b[0m 2ms/step - accuracy: 0.7052 - loss: 2.0629 - val_accuracy: 0.8035 - val_loss: 1.0535\n",
            "Epoch 27/100\n",
            "\u001b[1m392/400\u001b[0m \u001b[32m━━━━━━━━━━━━━━━━━━━\u001b[0m\u001b[37m━\u001b[0m \u001b[1m0s\u001b[0m 2ms/step - accuracy: 0.7259 - loss: 1.2775\n",
            "Epoch 27: val_loss improved from 1.05351 to 0.57099, saving model to best_model1.keras\n",
            "\u001b[1m400/400\u001b[0m \u001b[32m━━━━━━━━━━━━━━━━━━━━\u001b[0m\u001b[37m\u001b[0m \u001b[1m1s\u001b[0m 2ms/step - accuracy: 0.7260 - loss: 1.2748 - val_accuracy: 0.8035 - val_loss: 0.5710\n",
            "Epoch 28/100\n",
            "\u001b[1m394/400\u001b[0m \u001b[32m━━━━━━━━━━━━━━━━━━━\u001b[0m\u001b[37m━\u001b[0m \u001b[1m0s\u001b[0m 2ms/step - accuracy: 0.7134 - loss: 1.2280\n",
            "Epoch 28: val_loss did not improve from 0.57099\n",
            "\u001b[1m400/400\u001b[0m \u001b[32m━━━━━━━━━━━━━━━━━━━━\u001b[0m\u001b[37m\u001b[0m \u001b[1m1s\u001b[0m 2ms/step - accuracy: 0.7135 - loss: 1.2286 - val_accuracy: 0.8000 - val_loss: 0.8772\n",
            "Epoch 29/100\n",
            "\u001b[1m385/400\u001b[0m \u001b[32m━━━━━━━━━━━━━━━━━━━\u001b[0m\u001b[37m━\u001b[0m \u001b[1m0s\u001b[0m 2ms/step - accuracy: 0.7088 - loss: 2.6549\n",
            "Epoch 29: val_loss improved from 0.57099 to 0.55981, saving model to best_model1.keras\n",
            "\u001b[1m400/400\u001b[0m \u001b[32m━━━━━━━━━━━━━━━━━━━━\u001b[0m\u001b[37m\u001b[0m \u001b[1m1s\u001b[0m 3ms/step - accuracy: 0.7088 - loss: 2.6649 - val_accuracy: 0.8035 - val_loss: 0.5598\n",
            "Epoch 30/100\n",
            "\u001b[1m394/400\u001b[0m \u001b[32m━━━━━━━━━━━━━━━━━━━\u001b[0m\u001b[37m━\u001b[0m \u001b[1m0s\u001b[0m 3ms/step - accuracy: 0.7309 - loss: 1.0994\n",
            "Epoch 30: val_loss did not improve from 0.55981\n",
            "\u001b[1m400/400\u001b[0m \u001b[32m━━━━━━━━━━━━━━━━━━━━\u001b[0m\u001b[37m\u001b[0m \u001b[1m2s\u001b[0m 4ms/step - accuracy: 0.7306 - loss: 1.1072 - val_accuracy: 0.4610 - val_loss: 2.9205\n",
            "Epoch 31/100\n",
            "\u001b[1m382/400\u001b[0m \u001b[32m━━━━━━━━━━━━━━━━━━━\u001b[0m\u001b[37m━\u001b[0m \u001b[1m0s\u001b[0m 2ms/step - accuracy: 0.7303 - loss: 1.2724\n",
            "Epoch 31: val_loss did not improve from 0.55981\n",
            "\u001b[1m400/400\u001b[0m \u001b[32m━━━━━━━━━━━━━━━━━━━━\u001b[0m\u001b[37m\u001b[0m \u001b[1m2s\u001b[0m 2ms/step - accuracy: 0.7303 - loss: 1.2575 - val_accuracy: 0.8035 - val_loss: 0.6734\n",
            "Epoch 32/100\n",
            "\u001b[1m386/400\u001b[0m \u001b[32m━━━━━━━━━━━━━━━━━━━\u001b[0m\u001b[37m━\u001b[0m \u001b[1m0s\u001b[0m 2ms/step - accuracy: 0.7110 - loss: 1.2221\n",
            "Epoch 32: val_loss did not improve from 0.55981\n",
            "\u001b[1m400/400\u001b[0m \u001b[32m━━━━━━━━━━━━━━━━━━━━\u001b[0m\u001b[37m\u001b[0m \u001b[1m1s\u001b[0m 2ms/step - accuracy: 0.7111 - loss: 1.2238 - val_accuracy: 0.8035 - val_loss: 0.9005\n",
            "Epoch 33/100\n",
            "\u001b[1m384/400\u001b[0m \u001b[32m━━━━━━━━━━━━━━━━━━━\u001b[0m\u001b[37m━\u001b[0m \u001b[1m0s\u001b[0m 2ms/step - accuracy: 0.6936 - loss: 1.4648\n",
            "Epoch 33: val_loss did not improve from 0.55981\n",
            "\u001b[1m400/400\u001b[0m \u001b[32m━━━━━━━━━━━━━━━━━━━━\u001b[0m\u001b[37m\u001b[0m \u001b[1m1s\u001b[0m 2ms/step - accuracy: 0.6941 - loss: 1.4553 - val_accuracy: 0.8035 - val_loss: 2.0856\n",
            "Epoch 34/100\n",
            "\u001b[1m396/400\u001b[0m \u001b[32m━━━━━━━━━━━━━━━━━━━\u001b[0m\u001b[37m━\u001b[0m \u001b[1m0s\u001b[0m 2ms/step - accuracy: 0.7360 - loss: 0.9117\n",
            "Epoch 34: val_loss did not improve from 0.55981\n",
            "\u001b[1m400/400\u001b[0m \u001b[32m━━━━━━━━━━━━━━━━━━━━\u001b[0m\u001b[37m\u001b[0m \u001b[1m1s\u001b[0m 2ms/step - accuracy: 0.7361 - loss: 0.9096 - val_accuracy: 0.8035 - val_loss: 1.0542\n",
            "Epoch 35/100\n",
            "\u001b[1m390/400\u001b[0m \u001b[32m━━━━━━━━━━━━━━━━━━━\u001b[0m\u001b[37m━\u001b[0m \u001b[1m0s\u001b[0m 2ms/step - accuracy: 0.7311 - loss: 0.8765\n",
            "Epoch 35: val_loss improved from 0.55981 to 0.49206, saving model to best_model1.keras\n",
            "\u001b[1m400/400\u001b[0m \u001b[32m━━━━━━━━━━━━━━━━━━━━\u001b[0m\u001b[37m\u001b[0m \u001b[1m1s\u001b[0m 3ms/step - accuracy: 0.7311 - loss: 0.8748 - val_accuracy: 0.8035 - val_loss: 0.4921\n",
            "Epoch 36/100\n",
            "\u001b[1m393/400\u001b[0m \u001b[32m━━━━━━━━━━━━━━━━━━━\u001b[0m\u001b[37m━\u001b[0m \u001b[1m0s\u001b[0m 2ms/step - accuracy: 0.7477 - loss: 0.7374\n",
            "Epoch 36: val_loss did not improve from 0.49206\n",
            "\u001b[1m400/400\u001b[0m \u001b[32m━━━━━━━━━━━━━━━━━━━━\u001b[0m\u001b[37m\u001b[0m \u001b[1m1s\u001b[0m 2ms/step - accuracy: 0.7474 - loss: 0.7381 - val_accuracy: 0.6015 - val_loss: 0.6286\n",
            "Epoch 37/100\n",
            "\u001b[1m385/400\u001b[0m \u001b[32m━━━━━━━━━━━━━━━━━━━\u001b[0m\u001b[37m━\u001b[0m \u001b[1m0s\u001b[0m 2ms/step - accuracy: 0.7102 - loss: 1.0437\n",
            "Epoch 37: val_loss did not improve from 0.49206\n",
            "\u001b[1m400/400\u001b[0m \u001b[32m━━━━━━━━━━━━━━━━━━━━\u001b[0m\u001b[37m\u001b[0m \u001b[1m1s\u001b[0m 2ms/step - accuracy: 0.7107 - loss: 1.0394 - val_accuracy: 0.8035 - val_loss: 0.5155\n",
            "Epoch 38/100\n",
            "\u001b[1m399/400\u001b[0m \u001b[32m━━━━━━━━━━━━━━━━━━━\u001b[0m\u001b[37m━\u001b[0m \u001b[1m0s\u001b[0m 2ms/step - accuracy: 0.7572 - loss: 0.6219\n",
            "Epoch 38: val_loss did not improve from 0.49206\n",
            "\u001b[1m400/400\u001b[0m \u001b[32m━━━━━━━━━━━━━━━━━━━━\u001b[0m\u001b[37m\u001b[0m \u001b[1m1s\u001b[0m 2ms/step - accuracy: 0.7571 - loss: 0.6223 - val_accuracy: 0.8035 - val_loss: 0.5162\n",
            "Epoch 39/100\n",
            "\u001b[1m382/400\u001b[0m \u001b[32m━━━━━━━━━━━━━━━━━━━\u001b[0m\u001b[37m━\u001b[0m \u001b[1m0s\u001b[0m 3ms/step - accuracy: 0.7582 - loss: 0.6468\n",
            "Epoch 39: val_loss did not improve from 0.49206\n",
            "\u001b[1m400/400\u001b[0m \u001b[32m━━━━━━━━━━━━━━━━━━━━\u001b[0m\u001b[37m\u001b[0m \u001b[1m2s\u001b[0m 4ms/step - accuracy: 0.7583 - loss: 0.6459 - val_accuracy: 0.8035 - val_loss: 1.2271\n",
            "Epoch 40/100\n",
            "\u001b[1m396/400\u001b[0m \u001b[32m━━━━━━━━━━━━━━━━━━━\u001b[0m\u001b[37m━\u001b[0m \u001b[1m0s\u001b[0m 2ms/step - accuracy: 0.7611 - loss: 0.6587\n",
            "Epoch 40: val_loss did not improve from 0.49206\n",
            "\u001b[1m400/400\u001b[0m \u001b[32m━━━━━━━━━━━━━━━━━━━━\u001b[0m\u001b[37m\u001b[0m \u001b[1m2s\u001b[0m 2ms/step - accuracy: 0.7612 - loss: 0.6621 - val_accuracy: 0.2910 - val_loss: 3.0097\n",
            "Epoch 41/100\n",
            "\u001b[1m389/400\u001b[0m \u001b[32m━━━━━━━━━━━━━━━━━━━\u001b[0m\u001b[37m━\u001b[0m \u001b[1m0s\u001b[0m 2ms/step - accuracy: 0.7139 - loss: 1.1867\n",
            "Epoch 41: val_loss improved from 0.49206 to 0.48903, saving model to best_model1.keras\n",
            "\u001b[1m400/400\u001b[0m \u001b[32m━━━━━━━━━━━━━━━━━━━━\u001b[0m\u001b[37m\u001b[0m \u001b[1m1s\u001b[0m 3ms/step - accuracy: 0.7139 - loss: 1.1833 - val_accuracy: 0.8035 - val_loss: 0.4890\n",
            "Epoch 42/100\n",
            "\u001b[1m386/400\u001b[0m \u001b[32m━━━━━━━━━━━━━━━━━━━\u001b[0m\u001b[37m━\u001b[0m \u001b[1m0s\u001b[0m 2ms/step - accuracy: 0.7297 - loss: 0.6779\n",
            "Epoch 42: val_loss did not improve from 0.48903\n",
            "\u001b[1m400/400\u001b[0m \u001b[32m━━━━━━━━━━━━━━━━━━━━\u001b[0m\u001b[37m\u001b[0m \u001b[1m1s\u001b[0m 3ms/step - accuracy: 0.7307 - loss: 0.6752 - val_accuracy: 0.8035 - val_loss: 0.5133\n",
            "Epoch 43/100\n",
            "\u001b[1m381/400\u001b[0m \u001b[32m━━━━━━━━━━━━━━━━━━━\u001b[0m\u001b[37m━\u001b[0m \u001b[1m0s\u001b[0m 2ms/step - accuracy: 0.7877 - loss: 0.5315\n",
            "Epoch 43: val_loss did not improve from 0.48903\n",
            "\u001b[1m400/400\u001b[0m \u001b[32m━━━━━━━━━━━━━━━━━━━━\u001b[0m\u001b[37m\u001b[0m \u001b[1m1s\u001b[0m 3ms/step - accuracy: 0.7870 - loss: 0.5320 - val_accuracy: 0.8035 - val_loss: 0.4892\n",
            "Epoch 44/100\n",
            "\u001b[1m378/400\u001b[0m \u001b[32m━━━━━━━━━━━━━━━━━━\u001b[0m\u001b[37m━━\u001b[0m \u001b[1m0s\u001b[0m 2ms/step - accuracy: 0.7860 - loss: 0.5272\n",
            "Epoch 44: val_loss did not improve from 0.48903\n",
            "\u001b[1m400/400\u001b[0m \u001b[32m━━━━━━━━━━━━━━━━━━━━\u001b[0m\u001b[37m\u001b[0m \u001b[1m1s\u001b[0m 3ms/step - accuracy: 0.7858 - loss: 0.5278 - val_accuracy: 0.8035 - val_loss: 0.5026\n",
            "Epoch 45/100\n",
            "\u001b[1m393/400\u001b[0m \u001b[32m━━━━━━━━━━━━━━━━━━━\u001b[0m\u001b[37m━\u001b[0m \u001b[1m0s\u001b[0m 2ms/step - accuracy: 0.7987 - loss: 0.5035\n",
            "Epoch 45: val_loss did not improve from 0.48903\n",
            "\u001b[1m400/400\u001b[0m \u001b[32m━━━━━━━━━━━━━━━━━━━━\u001b[0m\u001b[37m\u001b[0m \u001b[1m1s\u001b[0m 2ms/step - accuracy: 0.7986 - loss: 0.5036 - val_accuracy: 0.7695 - val_loss: 0.5468\n",
            "Epoch 46/100\n",
            "\u001b[1m378/400\u001b[0m \u001b[32m━━━━━━━━━━━━━━━━━━\u001b[0m\u001b[37m━━\u001b[0m \u001b[1m0s\u001b[0m 2ms/step - accuracy: 0.7884 - loss: 0.5661\n",
            "Epoch 46: val_loss did not improve from 0.48903\n",
            "\u001b[1m400/400\u001b[0m \u001b[32m━━━━━━━━━━━━━━━━━━━━\u001b[0m\u001b[37m\u001b[0m \u001b[1m1s\u001b[0m 2ms/step - accuracy: 0.7884 - loss: 0.5669 - val_accuracy: 0.8035 - val_loss: 0.4962\n",
            "Epoch 47/100\n",
            "\u001b[1m393/400\u001b[0m \u001b[32m━━━━━━━━━━━━━━━━━━━\u001b[0m\u001b[37m━\u001b[0m \u001b[1m0s\u001b[0m 2ms/step - accuracy: 0.7999 - loss: 0.5007\n",
            "Epoch 47: val_loss did not improve from 0.48903\n",
            "\u001b[1m400/400\u001b[0m \u001b[32m━━━━━━━━━━━━━━━━━━━━\u001b[0m\u001b[37m\u001b[0m \u001b[1m1s\u001b[0m 2ms/step - accuracy: 0.7998 - loss: 0.5009 - val_accuracy: 0.8035 - val_loss: 0.4960\n",
            "Epoch 48/100\n",
            "\u001b[1m382/400\u001b[0m \u001b[32m━━━━━━━━━━━━━━━━━━━\u001b[0m\u001b[37m━\u001b[0m \u001b[1m0s\u001b[0m 3ms/step - accuracy: 0.7858 - loss: 0.5195\n",
            "Epoch 48: val_loss did not improve from 0.48903\n",
            "\u001b[1m400/400\u001b[0m \u001b[32m━━━━━━━━━━━━━━━━━━━━\u001b[0m\u001b[37m\u001b[0m \u001b[1m2s\u001b[0m 3ms/step - accuracy: 0.7861 - loss: 0.5190 - val_accuracy: 0.8035 - val_loss: 0.4959\n",
            "Epoch 49/100\n",
            "\u001b[1m377/400\u001b[0m \u001b[32m━━━━━━━━━━━━━━━━━━\u001b[0m\u001b[37m━━\u001b[0m \u001b[1m0s\u001b[0m 2ms/step - accuracy: 0.7905 - loss: 0.5133\n",
            "Epoch 49: val_loss did not improve from 0.48903\n",
            "\u001b[1m400/400\u001b[0m \u001b[32m━━━━━━━━━━━━━━━━━━━━\u001b[0m\u001b[37m\u001b[0m \u001b[1m2s\u001b[0m 3ms/step - accuracy: 0.7907 - loss: 0.5130 - val_accuracy: 0.8035 - val_loss: 0.4958\n",
            "Epoch 50/100\n",
            "\u001b[1m377/400\u001b[0m \u001b[32m━━━━━━━━━━━━━━━━━━\u001b[0m\u001b[37m━━\u001b[0m \u001b[1m0s\u001b[0m 2ms/step - accuracy: 0.7983 - loss: 0.5027\n",
            "Epoch 50: val_loss did not improve from 0.48903\n",
            "\u001b[1m400/400\u001b[0m \u001b[32m━━━━━━━━━━━━━━━━━━━━\u001b[0m\u001b[37m\u001b[0m \u001b[1m1s\u001b[0m 2ms/step - accuracy: 0.7981 - loss: 0.5030 - val_accuracy: 0.8035 - val_loss: 0.4959\n",
            "Epoch 51/100\n",
            "\u001b[1m392/400\u001b[0m \u001b[32m━━━━━━━━━━━━━━━━━━━\u001b[0m\u001b[37m━\u001b[0m \u001b[1m0s\u001b[0m 2ms/step - accuracy: 0.8037 - loss: 0.4953\n",
            "Epoch 51: val_loss did not improve from 0.48903\n",
            "\u001b[1m400/400\u001b[0m \u001b[32m━━━━━━━━━━━━━━━━━━━━\u001b[0m\u001b[37m\u001b[0m \u001b[1m2s\u001b[0m 3ms/step - accuracy: 0.8035 - loss: 0.4956 - val_accuracy: 0.8035 - val_loss: 0.4959\n",
            "Epoch 51: early stopping\n",
            "Restoring model weights from the end of the best epoch: 41.\n"
          ]
        },
        {
          "output_type": "execute_result",
          "data": {
            "text/plain": [
              "<keras.src.callbacks.history.History at 0x7d02db63a890>"
            ]
          },
          "metadata": {},
          "execution_count": 53
        }
      ]
    },
    {
      "cell_type": "markdown",
      "source": [
        "4. verbose=1\n",
        "What it does: Enables informational messages when early stopping occurs.\n",
        "\n",
        "Output: You’ll see a message like:"
      ],
      "metadata": {
        "id": "0pHVYt-XdvgG"
      }
    },
    {
      "cell_type": "code",
      "source": [
        "m4 = Sequential()\n",
        "m4.add(Dense(units=64,input_dim=12,kernel_initializer='he_uniform',activation='relu'))\n",
        "m4.add(Dense(units=32,kernel_initializer='he_uniform',activation='relu'))\n",
        "m4.add(Dense(units=16,kernel_initializer='random_uniform',activation='relu'))\n",
        "m4.add(Dense(units=8,kernel_initializer ='he_uniform',activation='sigmoid'))\n",
        "m4.add(Dense(units=4,kernel_initializer ='he_uniform',activation='sigmoid'))\n",
        "# m4.add(Dense(units=4,kernel_initializer ='ranndom_uniform',activation='relu'))\n",
        "m4.add(Dense(units=1,activation='sigmoid'))"
      ],
      "metadata": {
        "id": "jT9K5pvtcld6"
      },
      "execution_count": null,
      "outputs": []
    },
    {
      "cell_type": "code",
      "source": [
        "m4.compile(loss='mean_squared_error',optimizer='adam',metrics=['mse'])"
      ],
      "metadata": {
        "id": "NZji1GVNfFk0"
      },
      "execution_count": null,
      "outputs": []
    },
    {
      "cell_type": "code",
      "source": [
        "m4.fit(x_train,y_train,epochs=100,batch_size=20,validation_data=(x_test,y_test),callbacks=[early_stop1,checkpoint1])"
      ],
      "metadata": {
        "colab": {
          "base_uri": "https://localhost:8080/"
        },
        "id": "xcGg1NzKgTiZ",
        "outputId": "e094a0e3-bb85-437e-a277-f855bb7bf866"
      },
      "execution_count": null,
      "outputs": [
        {
          "output_type": "stream",
          "name": "stdout",
          "text": [
            "Epoch 1/100\n",
            "\u001b[1m389/400\u001b[0m \u001b[32m━━━━━━━━━━━━━━━━━━━\u001b[0m\u001b[37m━\u001b[0m \u001b[1m0s\u001b[0m 2ms/step - loss: 0.2036 - mse: 0.2036\n",
            "Epoch 1: val_loss improved from inf to 0.15903, saving model to best_model1.keras\n",
            "\u001b[1m400/400\u001b[0m \u001b[32m━━━━━━━━━━━━━━━━━━━━\u001b[0m\u001b[37m\u001b[0m \u001b[1m3s\u001b[0m 4ms/step - loss: 0.2030 - mse: 0.2030 - val_loss: 0.1590 - val_mse: 0.1590\n",
            "Epoch 2/100\n",
            "\u001b[1m393/400\u001b[0m \u001b[32m━━━━━━━━━━━━━━━━━━━\u001b[0m\u001b[37m━\u001b[0m \u001b[1m0s\u001b[0m 2ms/step - loss: 0.1625 - mse: 0.1625\n",
            "Epoch 2: val_loss improved from 0.15903 to 0.15801, saving model to best_model1.keras\n",
            "\u001b[1m400/400\u001b[0m \u001b[32m━━━━━━━━━━━━━━━━━━━━\u001b[0m\u001b[37m\u001b[0m \u001b[1m2s\u001b[0m 3ms/step - loss: 0.1625 - mse: 0.1625 - val_loss: 0.1580 - val_mse: 0.1580\n",
            "Epoch 3/100\n",
            "\u001b[1m392/400\u001b[0m \u001b[32m━━━━━━━━━━━━━━━━━━━\u001b[0m\u001b[37m━\u001b[0m \u001b[1m0s\u001b[0m 3ms/step - loss: 0.1588 - mse: 0.1588\n",
            "Epoch 3: val_loss did not improve from 0.15801\n",
            "\u001b[1m400/400\u001b[0m \u001b[32m━━━━━━━━━━━━━━━━━━━━\u001b[0m\u001b[37m\u001b[0m \u001b[1m2s\u001b[0m 4ms/step - loss: 0.1589 - mse: 0.1589 - val_loss: 0.1580 - val_mse: 0.1580\n",
            "Epoch 4/100\n",
            "\u001b[1m395/400\u001b[0m \u001b[32m━━━━━━━━━━━━━━━━━━━\u001b[0m\u001b[37m━\u001b[0m \u001b[1m0s\u001b[0m 2ms/step - loss: 0.1649 - mse: 0.1649\n",
            "Epoch 4: val_loss improved from 0.15801 to 0.15791, saving model to best_model1.keras\n",
            "\u001b[1m400/400\u001b[0m \u001b[32m━━━━━━━━━━━━━━━━━━━━\u001b[0m\u001b[37m\u001b[0m \u001b[1m2s\u001b[0m 3ms/step - loss: 0.1649 - mse: 0.1649 - val_loss: 0.1579 - val_mse: 0.1579\n",
            "Epoch 5/100\n",
            "\u001b[1m378/400\u001b[0m \u001b[32m━━━━━━━━━━━━━━━━━━\u001b[0m\u001b[37m━━\u001b[0m \u001b[1m0s\u001b[0m 2ms/step - loss: 0.1664 - mse: 0.1664\n",
            "Epoch 5: val_loss did not improve from 0.15791\n",
            "\u001b[1m400/400\u001b[0m \u001b[32m━━━━━━━━━━━━━━━━━━━━\u001b[0m\u001b[37m\u001b[0m \u001b[1m1s\u001b[0m 3ms/step - loss: 0.1662 - mse: 0.1662 - val_loss: 0.1579 - val_mse: 0.1579\n",
            "Epoch 6/100\n",
            "\u001b[1m395/400\u001b[0m \u001b[32m━━━━━━━━━━━━━━━━━━━\u001b[0m\u001b[37m━\u001b[0m \u001b[1m0s\u001b[0m 2ms/step - loss: 0.1641 - mse: 0.1641\n",
            "Epoch 6: val_loss did not improve from 0.15791\n",
            "\u001b[1m400/400\u001b[0m \u001b[32m━━━━━━━━━━━━━━━━━━━━\u001b[0m\u001b[37m\u001b[0m \u001b[1m1s\u001b[0m 3ms/step - loss: 0.1641 - mse: 0.1641 - val_loss: 0.1580 - val_mse: 0.1580\n",
            "Epoch 7/100\n",
            "\u001b[1m393/400\u001b[0m \u001b[32m━━━━━━━━━━━━━━━━━━━\u001b[0m\u001b[37m━\u001b[0m \u001b[1m0s\u001b[0m 2ms/step - loss: 0.1639 - mse: 0.1639\n",
            "Epoch 7: val_loss did not improve from 0.15791\n",
            "\u001b[1m400/400\u001b[0m \u001b[32m━━━━━━━━━━━━━━━━━━━━\u001b[0m\u001b[37m\u001b[0m \u001b[1m1s\u001b[0m 3ms/step - loss: 0.1639 - mse: 0.1639 - val_loss: 0.1579 - val_mse: 0.1579\n",
            "Epoch 8/100\n",
            "\u001b[1m381/400\u001b[0m \u001b[32m━━━━━━━━━━━━━━━━━━━\u001b[0m\u001b[37m━\u001b[0m \u001b[1m0s\u001b[0m 2ms/step - loss: 0.1648 - mse: 0.1648\n",
            "Epoch 8: val_loss did not improve from 0.15791\n",
            "\u001b[1m400/400\u001b[0m \u001b[32m━━━━━━━━━━━━━━━━━━━━\u001b[0m\u001b[37m\u001b[0m \u001b[1m1s\u001b[0m 3ms/step - loss: 0.1648 - mse: 0.1648 - val_loss: 0.1579 - val_mse: 0.1579\n",
            "Epoch 9/100\n",
            "\u001b[1m392/400\u001b[0m \u001b[32m━━━━━━━━━━━━━━━━━━━\u001b[0m\u001b[37m━\u001b[0m \u001b[1m0s\u001b[0m 2ms/step - loss: 0.1626 - mse: 0.1626\n",
            "Epoch 9: val_loss did not improve from 0.15791\n",
            "\u001b[1m400/400\u001b[0m \u001b[32m━━━━━━━━━━━━━━━━━━━━\u001b[0m\u001b[37m\u001b[0m \u001b[1m1s\u001b[0m 3ms/step - loss: 0.1627 - mse: 0.1627 - val_loss: 0.1580 - val_mse: 0.1580\n",
            "Epoch 10/100\n",
            "\u001b[1m388/400\u001b[0m \u001b[32m━━━━━━━━━━━━━━━━━━━\u001b[0m\u001b[37m━\u001b[0m \u001b[1m0s\u001b[0m 2ms/step - loss: 0.1615 - mse: 0.1615\n",
            "Epoch 10: val_loss did not improve from 0.15791\n",
            "\u001b[1m400/400\u001b[0m \u001b[32m━━━━━━━━━━━━━━━━━━━━\u001b[0m\u001b[37m\u001b[0m \u001b[1m1s\u001b[0m 3ms/step - loss: 0.1616 - mse: 0.1616 - val_loss: 0.1581 - val_mse: 0.1581\n",
            "Epoch 11/100\n",
            "\u001b[1m396/400\u001b[0m \u001b[32m━━━━━━━━━━━━━━━━━━━\u001b[0m\u001b[37m━\u001b[0m \u001b[1m0s\u001b[0m 2ms/step - loss: 0.1655 - mse: 0.1655\n",
            "Epoch 11: val_loss did not improve from 0.15791\n",
            "\u001b[1m400/400\u001b[0m \u001b[32m━━━━━━━━━━━━━━━━━━━━\u001b[0m\u001b[37m\u001b[0m \u001b[1m1s\u001b[0m 3ms/step - loss: 0.1655 - mse: 0.1655 - val_loss: 0.1579 - val_mse: 0.1579\n",
            "Epoch 12/100\n",
            "\u001b[1m399/400\u001b[0m \u001b[32m━━━━━━━━━━━━━━━━━━━\u001b[0m\u001b[37m━\u001b[0m \u001b[1m0s\u001b[0m 3ms/step - loss: 0.1640 - mse: 0.1640\n",
            "Epoch 12: val_loss did not improve from 0.15791\n",
            "\u001b[1m400/400\u001b[0m \u001b[32m━━━━━━━━━━━━━━━━━━━━\u001b[0m\u001b[37m\u001b[0m \u001b[1m2s\u001b[0m 4ms/step - loss: 0.1640 - mse: 0.1640 - val_loss: 0.1580 - val_mse: 0.1580\n",
            "Epoch 13/100\n",
            "\u001b[1m387/400\u001b[0m \u001b[32m━━━━━━━━━━━━━━━━━━━\u001b[0m\u001b[37m━\u001b[0m \u001b[1m0s\u001b[0m 2ms/step - loss: 0.1693 - mse: 0.1693\n",
            "Epoch 13: val_loss improved from 0.15791 to 0.15790, saving model to best_model1.keras\n",
            "\u001b[1m400/400\u001b[0m \u001b[32m━━━━━━━━━━━━━━━━━━━━\u001b[0m\u001b[37m\u001b[0m \u001b[1m2s\u001b[0m 3ms/step - loss: 0.1691 - mse: 0.1691 - val_loss: 0.1579 - val_mse: 0.1579\n",
            "Epoch 14/100\n",
            "\u001b[1m386/400\u001b[0m \u001b[32m━━━━━━━━━━━━━━━━━━━\u001b[0m\u001b[37m━\u001b[0m \u001b[1m0s\u001b[0m 2ms/step - loss: 0.1585 - mse: 0.1585\n",
            "Epoch 14: val_loss did not improve from 0.15790\n",
            "\u001b[1m400/400\u001b[0m \u001b[32m━━━━━━━━━━━━━━━━━━━━\u001b[0m\u001b[37m\u001b[0m \u001b[1m1s\u001b[0m 3ms/step - loss: 0.1587 - mse: 0.1587 - val_loss: 0.1580 - val_mse: 0.1580\n",
            "Epoch 15/100\n",
            "\u001b[1m390/400\u001b[0m \u001b[32m━━━━━━━━━━━━━━━━━━━\u001b[0m\u001b[37m━\u001b[0m \u001b[1m0s\u001b[0m 2ms/step - loss: 0.1579 - mse: 0.1579\n",
            "Epoch 15: val_loss did not improve from 0.15790\n",
            "\u001b[1m400/400\u001b[0m \u001b[32m━━━━━━━━━━━━━━━━━━━━\u001b[0m\u001b[37m\u001b[0m \u001b[1m1s\u001b[0m 3ms/step - loss: 0.1580 - mse: 0.1580 - val_loss: 0.1582 - val_mse: 0.1582\n",
            "Epoch 16/100\n",
            "\u001b[1m382/400\u001b[0m \u001b[32m━━━━━━━━━━━━━━━━━━━\u001b[0m\u001b[37m━\u001b[0m \u001b[1m0s\u001b[0m 2ms/step - loss: 0.1654 - mse: 0.1654\n",
            "Epoch 16: val_loss did not improve from 0.15790\n",
            "\u001b[1m400/400\u001b[0m \u001b[32m━━━━━━━━━━━━━━━━━━━━\u001b[0m\u001b[37m\u001b[0m \u001b[1m1s\u001b[0m 3ms/step - loss: 0.1653 - mse: 0.1653 - val_loss: 0.1579 - val_mse: 0.1579\n",
            "Epoch 17/100\n",
            "\u001b[1m396/400\u001b[0m \u001b[32m━━━━━━━━━━━━━━━━━━━\u001b[0m\u001b[37m━\u001b[0m \u001b[1m0s\u001b[0m 2ms/step - loss: 0.1693 - mse: 0.1693\n",
            "Epoch 17: val_loss improved from 0.15790 to 0.15789, saving model to best_model1.keras\n",
            "\u001b[1m400/400\u001b[0m \u001b[32m━━━━━━━━━━━━━━━━━━━━\u001b[0m\u001b[37m\u001b[0m \u001b[1m1s\u001b[0m 3ms/step - loss: 0.1692 - mse: 0.1692 - val_loss: 0.1579 - val_mse: 0.1579\n",
            "Epoch 18/100\n",
            "\u001b[1m389/400\u001b[0m \u001b[32m━━━━━━━━━━━━━━━━━━━\u001b[0m\u001b[37m━\u001b[0m \u001b[1m0s\u001b[0m 2ms/step - loss: 0.1634 - mse: 0.1634\n",
            "Epoch 18: val_loss did not improve from 0.15789\n",
            "\u001b[1m400/400\u001b[0m \u001b[32m━━━━━━━━━━━━━━━━━━━━\u001b[0m\u001b[37m\u001b[0m \u001b[1m1s\u001b[0m 3ms/step - loss: 0.1634 - mse: 0.1634 - val_loss: 0.1580 - val_mse: 0.1580\n",
            "Epoch 19/100\n",
            "\u001b[1m393/400\u001b[0m \u001b[32m━━━━━━━━━━━━━━━━━━━\u001b[0m\u001b[37m━\u001b[0m \u001b[1m0s\u001b[0m 2ms/step - loss: 0.1643 - mse: 0.1643\n",
            "Epoch 19: val_loss did not improve from 0.15789\n",
            "\u001b[1m400/400\u001b[0m \u001b[32m━━━━━━━━━━━━━━━━━━━━\u001b[0m\u001b[37m\u001b[0m \u001b[1m1s\u001b[0m 3ms/step - loss: 0.1643 - mse: 0.1643 - val_loss: 0.1579 - val_mse: 0.1579\n",
            "Epoch 20/100\n",
            "\u001b[1m388/400\u001b[0m \u001b[32m━━━━━━━━━━━━━━━━━━━\u001b[0m\u001b[37m━\u001b[0m \u001b[1m0s\u001b[0m 2ms/step - loss: 0.1655 - mse: 0.1655\n",
            "Epoch 20: val_loss did not improve from 0.15789\n",
            "\u001b[1m400/400\u001b[0m \u001b[32m━━━━━━━━━━━━━━━━━━━━\u001b[0m\u001b[37m\u001b[0m \u001b[1m1s\u001b[0m 3ms/step - loss: 0.1655 - mse: 0.1655 - val_loss: 0.1579 - val_mse: 0.1579\n",
            "Epoch 21/100\n",
            "\u001b[1m399/400\u001b[0m \u001b[32m━━━━━━━━━━━━━━━━━━━\u001b[0m\u001b[37m━\u001b[0m \u001b[1m0s\u001b[0m 7ms/step - loss: 0.1655 - mse: 0.1655\n",
            "Epoch 21: val_loss did not improve from 0.15789\n",
            "\u001b[1m400/400\u001b[0m \u001b[32m━━━━━━━━━━━━━━━━━━━━\u001b[0m\u001b[37m\u001b[0m \u001b[1m4s\u001b[0m 9ms/step - loss: 0.1655 - mse: 0.1655 - val_loss: 0.1579 - val_mse: 0.1579\n",
            "Epoch 22/100\n",
            "\u001b[1m400/400\u001b[0m \u001b[32m━━━━━━━━━━━━━━━━━━━━\u001b[0m\u001b[37m\u001b[0m \u001b[1m0s\u001b[0m 5ms/step - loss: 0.1641 - mse: 0.1641\n",
            "Epoch 22: val_loss did not improve from 0.15789\n",
            "\u001b[1m400/400\u001b[0m \u001b[32m━━━━━━━━━━━━━━━━━━━━\u001b[0m\u001b[37m\u001b[0m \u001b[1m4s\u001b[0m 6ms/step - loss: 0.1641 - mse: 0.1641 - val_loss: 0.1579 - val_mse: 0.1579\n",
            "Epoch 23/100\n",
            "\u001b[1m384/400\u001b[0m \u001b[32m━━━━━━━━━━━━━━━━━━━\u001b[0m\u001b[37m━\u001b[0m \u001b[1m0s\u001b[0m 2ms/step - loss: 0.1650 - mse: 0.1650\n",
            "Epoch 23: val_loss did not improve from 0.15789\n",
            "\u001b[1m400/400\u001b[0m \u001b[32m━━━━━━━━━━━━━━━━━━━━\u001b[0m\u001b[37m\u001b[0m \u001b[1m1s\u001b[0m 3ms/step - loss: 0.1649 - mse: 0.1649 - val_loss: 0.1580 - val_mse: 0.1580\n",
            "Epoch 24/100\n",
            "\u001b[1m397/400\u001b[0m \u001b[32m━━━━━━━━━━━━━━━━━━━\u001b[0m\u001b[37m━\u001b[0m \u001b[1m0s\u001b[0m 2ms/step - loss: 0.1657 - mse: 0.1657\n",
            "Epoch 24: val_loss did not improve from 0.15789\n",
            "\u001b[1m400/400\u001b[0m \u001b[32m━━━━━━━━━━━━━━━━━━━━\u001b[0m\u001b[37m\u001b[0m \u001b[1m1s\u001b[0m 3ms/step - loss: 0.1657 - mse: 0.1657 - val_loss: 0.1579 - val_mse: 0.1579\n",
            "Epoch 25/100\n",
            "\u001b[1m382/400\u001b[0m \u001b[32m━━━━━━━━━━━━━━━━━━━\u001b[0m\u001b[37m━\u001b[0m \u001b[1m0s\u001b[0m 2ms/step - loss: 0.1711 - mse: 0.1711\n",
            "Epoch 25: val_loss did not improve from 0.15789\n",
            "\u001b[1m400/400\u001b[0m \u001b[32m━━━━━━━━━━━━━━━━━━━━\u001b[0m\u001b[37m\u001b[0m \u001b[1m1s\u001b[0m 3ms/step - loss: 0.1707 - mse: 0.1707 - val_loss: 0.1579 - val_mse: 0.1579\n",
            "Epoch 26/100\n",
            "\u001b[1m389/400\u001b[0m \u001b[32m━━━━━━━━━━━━━━━━━━━\u001b[0m\u001b[37m━\u001b[0m \u001b[1m0s\u001b[0m 2ms/step - loss: 0.1681 - mse: 0.1681\n",
            "Epoch 26: val_loss did not improve from 0.15789\n",
            "\u001b[1m400/400\u001b[0m \u001b[32m━━━━━━━━━━━━━━━━━━━━\u001b[0m\u001b[37m\u001b[0m \u001b[1m1s\u001b[0m 3ms/step - loss: 0.1680 - mse: 0.1680 - val_loss: 0.1579 - val_mse: 0.1579\n",
            "Epoch 27/100\n",
            "\u001b[1m391/400\u001b[0m \u001b[32m━━━━━━━━━━━━━━━━━━━\u001b[0m\u001b[37m━\u001b[0m \u001b[1m0s\u001b[0m 2ms/step - loss: 0.1622 - mse: 0.1622\n",
            "Epoch 27: val_loss did not improve from 0.15789\n",
            "\u001b[1m400/400\u001b[0m \u001b[32m━━━━━━━━━━━━━━━━━━━━\u001b[0m\u001b[37m\u001b[0m \u001b[1m1s\u001b[0m 3ms/step - loss: 0.1622 - mse: 0.1622 - val_loss: 0.1580 - val_mse: 0.1580\n",
            "Epoch 27: early stopping\n",
            "Restoring model weights from the end of the best epoch: 17.\n"
          ]
        },
        {
          "output_type": "execute_result",
          "data": {
            "text/plain": [
              "<keras.src.callbacks.history.History at 0x7d02e9abe190>"
            ]
          },
          "metadata": {},
          "execution_count": 67
        }
      ]
    },
    {
      "cell_type": "markdown",
      "source": [
        "Different Kernal_initializers\n",
        "1. random_uniform  \n",
        "2. random_normal  \n",
        "3. zeros  \n",
        "4. ones  \n",
        "5. he_uniform  \n",
        "6. he_normal  \n",
        "7. glorot_uniform  \n",
        "8. glorot_normal  \n",
        "9. lecun_uniform  \n",
        "10. lecun_normal  \n",
        "11. orthogonal  \n",
        "12. identity  \n",
        "13. constant\n"
      ],
      "metadata": {
        "id": "1XDmFjz8oOdV"
      }
    },
    {
      "cell_type": "markdown",
      "source": [
        "Different Activation Functions\n",
        "\n",
        "1. relu  \n",
        "2. sigmoid  \n",
        "3. tanh  \n",
        "4. softmax  \n",
        "5. linear  \n",
        "6. elu  \n",
        "7. selu  \n",
        "8. softplus  \n",
        "9. softsign  \n",
        "10. swish  \n",
        "11. gelu\n"
      ],
      "metadata": {
        "id": "cGPztESOpCHH"
      }
    },
    {
      "cell_type": "code",
      "source": [
        "m5=Sequential()\n",
        "m5.add(Dense(units=16,kernel_initializer='random_uniform',activation='relu',input_dim=12))\n",
        "m5.add(Dense(units=64,kernel_initializer='he_uniform',activation='relu'))\n",
        "m5.add(Dense(units=128,kernel_initializer='he_uniform',activation='relu'))\n",
        "m5.add(Dense(units=256,kernel_initializer='he_uniform',activation='relu'))\n",
        "m5.add(Dense(units=512,kernel_initializer='he_uniform',activation='relu'))\n",
        "m5.add(Dense(units=1024,kernel_initializer='he_uniform',activation='relu'))\n",
        "m5.add(Dense(units=128,kernel_initializer='he_uniform',activation='relu'))\n",
        "m5.add(Dense(units=64,kernel_initializer='he_uniform',activation='relu'))\n",
        "m5.add(Dense(units=16,kernel_initializer='he_uniform',activation='relu'))\n",
        "m5.add(Dense(units=1,kernel_initializer='he_uniform',activation='sigmoid'))\n",
        "m5.compile(optimizer='adam', loss='mean_squared_error', metrics=['mse'])\n",
        "m5.fit(x_train,y_train,validation_split=0.35,batch_size=40,epochs=100)\n",
        "\n"
      ],
      "metadata": {
        "id": "MYgl055-gaAL"
      },
      "execution_count": 72,
      "outputs": []
    },
    {
      "cell_type": "code",
      "source": [
        "from keras.callbacks import EarlyStopping,ModelCheckpoint\n",
        "early_stop = EarlyStopping(\n",
        "    monitor='val_loss',\n",
        "    patience=10,\n",
        "    mode='min',\n",
        "    restore_best_weights=True,\n",
        "    verbose=1\n",
        "    )\n",
        "\n",
        "checkpoint = ModelCheckpoint(\n",
        "    'best_model_my_10_layes.keras', #saving the model\n",
        "    monitor='val_loss',\n",
        "    save_best_only=True,\n",
        "    verbose=1\n",
        ")"
      ],
      "metadata": {
        "id": "8Wk_GZz_mUBU"
      },
      "execution_count": null,
      "outputs": []
    },
    {
      "cell_type": "code",
      "source": [
        "m5.fit(x_train,y_train,epochs=100,batch_size=20,validation_split=0.2,validation_data=(x_test,y_test),callbacks=[early_stop,checkpoint])"
      ],
      "metadata": {
        "colab": {
          "base_uri": "https://localhost:8080/"
        },
        "id": "6X2qLV4fmhE3",
        "outputId": "b1a77e95-8946-4141-ce5b-f35c19d4ad46"
      },
      "execution_count": null,
      "outputs": [
        {
          "output_type": "stream",
          "name": "stdout",
          "text": [
            "Epoch 1/100\n",
            "\u001b[1m400/400\u001b[0m \u001b[32m━━━━━━━━━━━━━━━━━━━━\u001b[0m\u001b[37m\u001b[0m \u001b[1m0s\u001b[0m 16ms/step - loss: 0.2060 - mse: 0.2060\n",
            "Epoch 1: val_loss improved from inf to 0.19650, saving model to best_model_my_10_layes.keras\n",
            "\u001b[1m400/400\u001b[0m \u001b[32m━━━━━━━━━━━━━━━━━━━━\u001b[0m\u001b[37m\u001b[0m \u001b[1m8s\u001b[0m 18ms/step - loss: 0.2060 - mse: 0.2060 - val_loss: 0.1965 - val_mse: 0.1965\n",
            "Epoch 2/100\n",
            "\u001b[1m399/400\u001b[0m \u001b[32m━━━━━━━━━━━━━━━━━━━\u001b[0m\u001b[37m━\u001b[0m \u001b[1m0s\u001b[0m 13ms/step - loss: 0.2017 - mse: 0.2017\n",
            "Epoch 2: val_loss did not improve from 0.19650\n",
            "\u001b[1m400/400\u001b[0m \u001b[32m━━━━━━━━━━━━━━━━━━━━\u001b[0m\u001b[37m\u001b[0m \u001b[1m6s\u001b[0m 14ms/step - loss: 0.2017 - mse: 0.2017 - val_loss: 0.1965 - val_mse: 0.1965\n",
            "Epoch 3/100\n",
            "\u001b[1m400/400\u001b[0m \u001b[32m━━━━━━━━━━━━━━━━━━━━\u001b[0m\u001b[37m\u001b[0m \u001b[1m0s\u001b[0m 13ms/step - loss: 0.2034 - mse: 0.2034\n",
            "Epoch 3: val_loss did not improve from 0.19650\n",
            "\u001b[1m400/400\u001b[0m \u001b[32m━━━━━━━━━━━━━━━━━━━━\u001b[0m\u001b[37m\u001b[0m \u001b[1m10s\u001b[0m 14ms/step - loss: 0.2034 - mse: 0.2034 - val_loss: 0.1965 - val_mse: 0.1965\n",
            "Epoch 4/100\n",
            "\u001b[1m399/400\u001b[0m \u001b[32m━━━━━━━━━━━━━━━━━━━\u001b[0m\u001b[37m━\u001b[0m \u001b[1m0s\u001b[0m 18ms/step - loss: 0.2083 - mse: 0.2083\n",
            "Epoch 4: val_loss did not improve from 0.19650\n",
            "\u001b[1m400/400\u001b[0m \u001b[32m━━━━━━━━━━━━━━━━━━━━\u001b[0m\u001b[37m\u001b[0m \u001b[1m12s\u001b[0m 19ms/step - loss: 0.2083 - mse: 0.2083 - val_loss: 0.1965 - val_mse: 0.1965\n",
            "Epoch 5/100\n",
            "\u001b[1m399/400\u001b[0m \u001b[32m━━━━━━━━━━━━━━━━━━━\u001b[0m\u001b[37m━\u001b[0m \u001b[1m0s\u001b[0m 13ms/step - loss: 0.2014 - mse: 0.2014\n",
            "Epoch 5: val_loss did not improve from 0.19650\n",
            "\u001b[1m400/400\u001b[0m \u001b[32m━━━━━━━━━━━━━━━━━━━━\u001b[0m\u001b[37m\u001b[0m \u001b[1m6s\u001b[0m 15ms/step - loss: 0.2014 - mse: 0.2014 - val_loss: 0.1965 - val_mse: 0.1965\n",
            "Epoch 6/100\n",
            "\u001b[1m399/400\u001b[0m \u001b[32m━━━━━━━━━━━━━━━━━━━\u001b[0m\u001b[37m━\u001b[0m \u001b[1m0s\u001b[0m 16ms/step - loss: 0.2024 - mse: 0.2024\n",
            "Epoch 6: val_loss did not improve from 0.19650\n",
            "\u001b[1m400/400\u001b[0m \u001b[32m━━━━━━━━━━━━━━━━━━━━\u001b[0m\u001b[37m\u001b[0m \u001b[1m7s\u001b[0m 16ms/step - loss: 0.2024 - mse: 0.2024 - val_loss: 0.1965 - val_mse: 0.1965\n",
            "Epoch 7/100\n",
            "\u001b[1m400/400\u001b[0m \u001b[32m━━━━━━━━━━━━━━━━━━━━\u001b[0m\u001b[37m\u001b[0m \u001b[1m0s\u001b[0m 15ms/step - loss: 0.2040 - mse: 0.2040\n",
            "Epoch 7: val_loss did not improve from 0.19650\n",
            "\u001b[1m400/400\u001b[0m \u001b[32m━━━━━━━━━━━━━━━━━━━━\u001b[0m\u001b[37m\u001b[0m \u001b[1m10s\u001b[0m 16ms/step - loss: 0.2040 - mse: 0.2040 - val_loss: 0.1965 - val_mse: 0.1965\n",
            "Epoch 8/100\n",
            "\u001b[1m397/400\u001b[0m \u001b[32m━━━━━━━━━━━━━━━━━━━\u001b[0m\u001b[37m━\u001b[0m \u001b[1m0s\u001b[0m 13ms/step - loss: 0.2036 - mse: 0.2036\n",
            "Epoch 8: val_loss did not improve from 0.19650\n",
            "\u001b[1m400/400\u001b[0m \u001b[32m━━━━━━━━━━━━━━━━━━━━\u001b[0m\u001b[37m\u001b[0m \u001b[1m9s\u001b[0m 14ms/step - loss: 0.2036 - mse: 0.2036 - val_loss: 0.1965 - val_mse: 0.1965\n",
            "Epoch 9/100\n",
            "\u001b[1m397/400\u001b[0m \u001b[32m━━━━━━━━━━━━━━━━━━━\u001b[0m\u001b[37m━\u001b[0m \u001b[1m0s\u001b[0m 13ms/step - loss: 0.2066 - mse: 0.2066\n",
            "Epoch 9: val_loss did not improve from 0.19650\n",
            "\u001b[1m400/400\u001b[0m \u001b[32m━━━━━━━━━━━━━━━━━━━━\u001b[0m\u001b[37m\u001b[0m \u001b[1m10s\u001b[0m 14ms/step - loss: 0.2066 - mse: 0.2066 - val_loss: 0.1965 - val_mse: 0.1965\n",
            "Epoch 10/100\n",
            "\u001b[1m397/400\u001b[0m \u001b[32m━━━━━━━━━━━━━━━━━━━\u001b[0m\u001b[37m━\u001b[0m \u001b[1m0s\u001b[0m 13ms/step - loss: 0.2169 - mse: 0.2169\n",
            "Epoch 10: val_loss did not improve from 0.19650\n",
            "\u001b[1m400/400\u001b[0m \u001b[32m━━━━━━━━━━━━━━━━━━━━\u001b[0m\u001b[37m\u001b[0m \u001b[1m11s\u001b[0m 14ms/step - loss: 0.2168 - mse: 0.2168 - val_loss: 0.1965 - val_mse: 0.1965\n",
            "Epoch 11/100\n",
            "\u001b[1m398/400\u001b[0m \u001b[32m━━━━━━━━━━━━━━━━━━━\u001b[0m\u001b[37m━\u001b[0m \u001b[1m0s\u001b[0m 14ms/step - loss: 0.2006 - mse: 0.2006\n",
            "Epoch 11: val_loss did not improve from 0.19650\n",
            "\u001b[1m400/400\u001b[0m \u001b[32m━━━━━━━━━━━━━━━━━━━━\u001b[0m\u001b[37m\u001b[0m \u001b[1m6s\u001b[0m 16ms/step - loss: 0.2007 - mse: 0.2007 - val_loss: 0.1965 - val_mse: 0.1965\n",
            "Epoch 11: early stopping\n",
            "Restoring model weights from the end of the best epoch: 1.\n"
          ]
        },
        {
          "output_type": "execute_result",
          "data": {
            "text/plain": [
              "<keras.src.callbacks.history.History at 0x7d02ea02fd50>"
            ]
          },
          "metadata": {},
          "execution_count": 70
        }
      ]
    },
    {
      "cell_type": "markdown",
      "source": [
        "Adding Drop Out LAyers"
      ],
      "metadata": {
        "id": "3RIhBuCCwBw-"
      }
    },
    {
      "cell_type": "markdown",
      "source": [
        "Drop Out Layer\n",
        "it works on\n",
        "1) co-Adaptation\n",
        "2) over-reliance\n",
        "\n",
        "It is used to overcome overfitting\n",
        "\n",
        "<30% dropout is good"
      ],
      "metadata": {
        "id": "wYo5Gcw_zriH"
      }
    },
    {
      "cell_type": "code",
      "source": [
        "m6=Sequential()\n",
        "m6.add(Dense(units=16,kernel_initializer='random_uniform',activation='relu',input_dim=12))\n",
        "m6.add(Dense(units=64,kernel_initializer='he_uniform',activation='relu'))\n",
        "m6.add(Dropout(0.2))\n",
        "m6.add(Dense(units=128,kernel_initializer='he_uniform',activation='relu'))\n",
        "m6.add(Dense(units=256,kernel_initializer='he_uniform',activation='relu'))\n",
        "m6.add(Dropout(0.4))\n",
        "m6.add(Dense(units=512,kernel_initializer='he_uniform',activation='relu'))\n",
        "m6.add(Dense(units=1024,kernel_initializer='he_uniform',activation='relu'))\n",
        "m6.add(Dropout(0.6))\n",
        "m6.add(Dense(units=128,kernel_initializer='he_uniform',activation='relu'))\n",
        "m6.add(Dense(units=64,kernel_initializer='he_uniform',activation='relu'))\n",
        "m6.add(Dropout(0.15))\n",
        "m6.add(Dense(units=16,kernel_initializer='he_uniform',activation='relu'))\n",
        "m6.add(Dense(units=1,kernel_initializer='he_uniform',activation='sigmoid'))\n",
        "m6.compile(optimizer='adam', loss='mean_squared_error', metrics=['mse'])\n",
        "\n",
        "\n"
      ],
      "metadata": {
        "id": "STQKBxCFnvqO"
      },
      "execution_count": 73,
      "outputs": []
    },
    {
      "cell_type": "code",
      "source": [
        "from keras.callbacks import EarlyStopping,ModelCheckpoint\n",
        "early_stop_for_dropout = EarlyStopping(\n",
        "    monitor='val_loss',\n",
        "    patience=10,\n",
        "    mode='min',\n",
        "    restore_best_weights=True,\n",
        "    verbose=1\n",
        "    )\n",
        "\n",
        "checkpoint_dropout = ModelCheckpoint(\n",
        "    'with_dropout_layer.keras', #saving the model\n",
        "    monitor='val_loss',\n",
        "    save_best_only=True,\n",
        "    verbose=1\n",
        ")"
      ],
      "metadata": {
        "id": "DWog1X-Qwset"
      },
      "execution_count": 74,
      "outputs": []
    },
    {
      "cell_type": "code",
      "source": [
        "m6.fit(x_train,y_train,epochs=100,batch_size=20,validation_split=0.2,validation_data=(x_test,y_test),callbacks=[early_stop,checkpoint])"
      ],
      "metadata": {
        "colab": {
          "base_uri": "https://localhost:8080/"
        },
        "id": "TTehGf97w3jm",
        "outputId": "31e85aa7-2678-4940-e398-a6b0528ecf42"
      },
      "execution_count": 75,
      "outputs": [
        {
          "output_type": "stream",
          "name": "stdout",
          "text": [
            "Epoch 1/100\n",
            "\u001b[1m398/400\u001b[0m \u001b[32m━━━━━━━━━━━━━━━━━━━\u001b[0m\u001b[37m━\u001b[0m \u001b[1m0s\u001b[0m 13ms/step - loss: 0.2607 - mse: 0.2607\n",
            "Epoch 1: val_loss improved from inf to 0.19650, saving model to best_model_my_10_layes.keras\n",
            "\u001b[1m400/400\u001b[0m \u001b[32m━━━━━━━━━━━━━━━━━━━━\u001b[0m\u001b[37m\u001b[0m \u001b[1m10s\u001b[0m 15ms/step - loss: 0.2604 - mse: 0.2604 - val_loss: 0.1965 - val_mse: 0.1965\n",
            "Epoch 2/100\n",
            "\u001b[1m397/400\u001b[0m \u001b[32m━━━━━━━━━━━━━━━━━━━\u001b[0m\u001b[37m━\u001b[0m \u001b[1m0s\u001b[0m 15ms/step - loss: 0.2061 - mse: 0.2061\n",
            "Epoch 2: val_loss did not improve from 0.19650\n",
            "\u001b[1m400/400\u001b[0m \u001b[32m━━━━━━━━━━━━━━━━━━━━\u001b[0m\u001b[37m\u001b[0m \u001b[1m11s\u001b[0m 16ms/step - loss: 0.2061 - mse: 0.2061 - val_loss: 0.1965 - val_mse: 0.1965\n",
            "Epoch 3/100\n",
            "\u001b[1m400/400\u001b[0m \u001b[32m━━━━━━━━━━━━━━━━━━━━\u001b[0m\u001b[37m\u001b[0m \u001b[1m0s\u001b[0m 13ms/step - loss: 0.2022 - mse: 0.2022\n",
            "Epoch 3: val_loss did not improve from 0.19650\n",
            "\u001b[1m400/400\u001b[0m \u001b[32m━━━━━━━━━━━━━━━━━━━━\u001b[0m\u001b[37m\u001b[0m \u001b[1m6s\u001b[0m 15ms/step - loss: 0.2022 - mse: 0.2022 - val_loss: 0.1965 - val_mse: 0.1965\n",
            "Epoch 4/100\n",
            "\u001b[1m397/400\u001b[0m \u001b[32m━━━━━━━━━━━━━━━━━━━\u001b[0m\u001b[37m━\u001b[0m \u001b[1m0s\u001b[0m 15ms/step - loss: 0.2068 - mse: 0.2068\n",
            "Epoch 4: val_loss did not improve from 0.19650\n",
            "\u001b[1m400/400\u001b[0m \u001b[32m━━━━━━━━━━━━━━━━━━━━\u001b[0m\u001b[37m\u001b[0m \u001b[1m7s\u001b[0m 17ms/step - loss: 0.2067 - mse: 0.2067 - val_loss: 0.1965 - val_mse: 0.1965\n",
            "Epoch 5/100\n",
            "\u001b[1m397/400\u001b[0m \u001b[32m━━━━━━━━━━━━━━━━━━━\u001b[0m\u001b[37m━\u001b[0m \u001b[1m0s\u001b[0m 13ms/step - loss: 0.2040 - mse: 0.2040\n",
            "Epoch 5: val_loss did not improve from 0.19650\n",
            "\u001b[1m400/400\u001b[0m \u001b[32m━━━━━━━━━━━━━━━━━━━━\u001b[0m\u001b[37m\u001b[0m \u001b[1m6s\u001b[0m 15ms/step - loss: 0.2040 - mse: 0.2040 - val_loss: 0.1965 - val_mse: 0.1965\n",
            "Epoch 6/100\n",
            "\u001b[1m398/400\u001b[0m \u001b[32m━━━━━━━━━━━━━━━━━━━\u001b[0m\u001b[37m━\u001b[0m \u001b[1m0s\u001b[0m 13ms/step - loss: 0.2119 - mse: 0.2119\n",
            "Epoch 6: val_loss did not improve from 0.19650\n",
            "\u001b[1m400/400\u001b[0m \u001b[32m━━━━━━━━━━━━━━━━━━━━\u001b[0m\u001b[37m\u001b[0m \u001b[1m10s\u001b[0m 14ms/step - loss: 0.2119 - mse: 0.2119 - val_loss: 0.1965 - val_mse: 0.1965\n",
            "Epoch 7/100\n",
            "\u001b[1m398/400\u001b[0m \u001b[32m━━━━━━━━━━━━━━━━━━━\u001b[0m\u001b[37m━\u001b[0m \u001b[1m0s\u001b[0m 14ms/step - loss: 0.2046 - mse: 0.2046\n",
            "Epoch 7: val_loss did not improve from 0.19650\n",
            "\u001b[1m400/400\u001b[0m \u001b[32m━━━━━━━━━━━━━━━━━━━━\u001b[0m\u001b[37m\u001b[0m \u001b[1m10s\u001b[0m 15ms/step - loss: 0.2046 - mse: 0.2046 - val_loss: 0.1965 - val_mse: 0.1965\n",
            "Epoch 8/100\n",
            "\u001b[1m398/400\u001b[0m \u001b[32m━━━━━━━━━━━━━━━━━━━\u001b[0m\u001b[37m━\u001b[0m \u001b[1m0s\u001b[0m 15ms/step - loss: 0.2106 - mse: 0.2106\n",
            "Epoch 8: val_loss did not improve from 0.19650\n",
            "\u001b[1m400/400\u001b[0m \u001b[32m━━━━━━━━━━━━━━━━━━━━\u001b[0m\u001b[37m\u001b[0m \u001b[1m11s\u001b[0m 17ms/step - loss: 0.2106 - mse: 0.2106 - val_loss: 0.1965 - val_mse: 0.1965\n",
            "Epoch 9/100\n",
            "\u001b[1m400/400\u001b[0m \u001b[32m━━━━━━━━━━━━━━━━━━━━\u001b[0m\u001b[37m\u001b[0m \u001b[1m0s\u001b[0m 17ms/step - loss: 0.2055 - mse: 0.2055\n",
            "Epoch 9: val_loss did not improve from 0.19650\n",
            "\u001b[1m400/400\u001b[0m \u001b[32m━━━━━━━━━━━━━━━━━━━━\u001b[0m\u001b[37m\u001b[0m \u001b[1m11s\u001b[0m 18ms/step - loss: 0.2055 - mse: 0.2055 - val_loss: 0.1965 - val_mse: 0.1965\n",
            "Epoch 10/100\n",
            "\u001b[1m397/400\u001b[0m \u001b[32m━━━━━━━━━━━━━━━━━━━\u001b[0m\u001b[37m━\u001b[0m \u001b[1m0s\u001b[0m 16ms/step - loss: 0.2021 - mse: 0.2021\n",
            "Epoch 10: val_loss did not improve from 0.19650\n",
            "\u001b[1m400/400\u001b[0m \u001b[32m━━━━━━━━━━━━━━━━━━━━\u001b[0m\u001b[37m\u001b[0m \u001b[1m10s\u001b[0m 17ms/step - loss: 0.2022 - mse: 0.2022 - val_loss: 0.1965 - val_mse: 0.1965\n",
            "Epoch 11/100\n",
            "\u001b[1m398/400\u001b[0m \u001b[32m━━━━━━━━━━━━━━━━━━━\u001b[0m\u001b[37m━\u001b[0m \u001b[1m0s\u001b[0m 13ms/step - loss: 0.2030 - mse: 0.2030\n",
            "Epoch 11: val_loss did not improve from 0.19650\n",
            "\u001b[1m400/400\u001b[0m \u001b[32m━━━━━━━━━━━━━━━━━━━━\u001b[0m\u001b[37m\u001b[0m \u001b[1m9s\u001b[0m 14ms/step - loss: 0.2030 - mse: 0.2030 - val_loss: 0.1965 - val_mse: 0.1965\n",
            "Epoch 11: early stopping\n",
            "Restoring model weights from the end of the best epoch: 1.\n"
          ]
        },
        {
          "output_type": "execute_result",
          "data": {
            "text/plain": [
              "<keras.src.callbacks.history.History at 0x7d02e9f5a850>"
            ]
          },
          "metadata": {},
          "execution_count": 75
        }
      ]
    },
    {
      "cell_type": "code",
      "source": [
        "m6=Sequential()\n",
        "m6.add(Dense(units=16,kernel_initializer='random_uniform',activation='relu',input_dim=12))\n",
        "m6.add(Dense(units=64,kernel_initializer='he_uniform',activation='relu'))\n",
        "m6.add(Dropout(0.2))\n",
        "m6.add(Dense(units=128,kernel_initializer='he_uniform',activation='relu'))\n",
        "m6.add(Dropout(0.25))\n",
        "m6.add(Dense(units=256,kernel_initializer='he_uniform',activation='relu'))\n",
        "m6.add(Dropout(0.3))\n",
        "m6.add(Dense(units=512,kernel_initializer='he_uniform',activation='relu'))\n",
        "m6.add(Dropout(0.4))\n",
        "m6.add(Dense(units=1024,kernel_initializer='he_uniform',activation='relu'))\n",
        "m6.add(Dropout(0.35))\n",
        "m6.add(Dense(units=128,kernel_initializer='he_uniform',activation='relu'))\n",
        "m6.add(Dropout(0.4))\n",
        "m6.add(Dense(units=64,kernel_initializer='he_uniform',activation='relu'))\n",
        "m6.add(Dropout(0.15))\n",
        "m6.add(Dense(units=16,kernel_initializer='he_uniform',activation='relu'))\n",
        "m6.add(Dense(units=1,kernel_initializer='he_uniform',activation='sigmoid'))\n",
        "m6.compile(optimizer='adam', loss='mean_squared_error', metrics=['mse'])"
      ],
      "metadata": {
        "id": "WKeg2WiCw48h"
      },
      "execution_count": 76,
      "outputs": []
    },
    {
      "cell_type": "code",
      "source": [
        "m6.fit(x_train,y_train,epochs=100,batch_size=20,validation_split=0.2,validation_data=(x_test,y_test),callbacks=[early_stop,checkpoint])"
      ],
      "metadata": {
        "colab": {
          "base_uri": "https://localhost:8080/"
        },
        "id": "ElaxXCLexnqy",
        "outputId": "62e4e0b7-f095-4c3a-801b-f20ca3319218"
      },
      "execution_count": 77,
      "outputs": [
        {
          "output_type": "stream",
          "name": "stdout",
          "text": [
            "Epoch 1/100\n",
            "\u001b[1m397/400\u001b[0m \u001b[32m━━━━━━━━━━━━━━━━━━━\u001b[0m\u001b[37m━\u001b[0m \u001b[1m0s\u001b[0m 13ms/step - loss: 0.4561 - mse: 0.4561\n",
            "Epoch 1: val_loss did not improve from 0.19650\n",
            "\u001b[1m400/400\u001b[0m \u001b[32m━━━━━━━━━━━━━━━━━━━━\u001b[0m\u001b[37m\u001b[0m \u001b[1m10s\u001b[0m 15ms/step - loss: 0.4573 - mse: 0.4573 - val_loss: 0.8035 - val_mse: 0.8035\n",
            "Epoch 2/100\n",
            "\u001b[1m399/400\u001b[0m \u001b[32m━━━━━━━━━━━━━━━━━━━\u001b[0m\u001b[37m━\u001b[0m \u001b[1m0s\u001b[0m 15ms/step - loss: 0.6630 - mse: 0.6630\n",
            "Epoch 2: val_loss did not improve from 0.19650\n",
            "\u001b[1m400/400\u001b[0m \u001b[32m━━━━━━━━━━━━━━━━━━━━\u001b[0m\u001b[37m\u001b[0m \u001b[1m11s\u001b[0m 16ms/step - loss: 0.6622 - mse: 0.6622 - val_loss: 0.1965 - val_mse: 0.1965\n",
            "Epoch 3/100\n",
            "\u001b[1m398/400\u001b[0m \u001b[32m━━━━━━━━━━━━━━━━━━━\u001b[0m\u001b[37m━\u001b[0m \u001b[1m0s\u001b[0m 16ms/step - loss: 0.2252 - mse: 0.2252\n",
            "Epoch 3: val_loss did not improve from 0.19650\n",
            "\u001b[1m400/400\u001b[0m \u001b[32m━━━━━━━━━━━━━━━━━━━━\u001b[0m\u001b[37m\u001b[0m \u001b[1m11s\u001b[0m 17ms/step - loss: 0.2252 - mse: 0.2252 - val_loss: 0.1965 - val_mse: 0.1965\n",
            "Epoch 4/100\n",
            "\u001b[1m399/400\u001b[0m \u001b[32m━━━━━━━━━━━━━━━━━━━\u001b[0m\u001b[37m━\u001b[0m \u001b[1m0s\u001b[0m 15ms/step - loss: 0.2135 - mse: 0.2135\n",
            "Epoch 4: val_loss did not improve from 0.19650\n",
            "\u001b[1m400/400\u001b[0m \u001b[32m━━━━━━━━━━━━━━━━━━━━\u001b[0m\u001b[37m\u001b[0m \u001b[1m10s\u001b[0m 17ms/step - loss: 0.2135 - mse: 0.2135 - val_loss: 0.1965 - val_mse: 0.1965\n",
            "Epoch 5/100\n",
            "\u001b[1m399/400\u001b[0m \u001b[32m━━━━━━━━━━━━━━━━━━━\u001b[0m\u001b[37m━\u001b[0m \u001b[1m0s\u001b[0m 14ms/step - loss: 0.2072 - mse: 0.2072\n",
            "Epoch 5: val_loss did not improve from 0.19650\n",
            "\u001b[1m400/400\u001b[0m \u001b[32m━━━━━━━━━━━━━━━━━━━━\u001b[0m\u001b[37m\u001b[0m \u001b[1m9s\u001b[0m 15ms/step - loss: 0.2072 - mse: 0.2072 - val_loss: 0.1965 - val_mse: 0.1965\n",
            "Epoch 6/100\n",
            "\u001b[1m397/400\u001b[0m \u001b[32m━━━━━━━━━━━━━━━━━━━\u001b[0m\u001b[37m━\u001b[0m \u001b[1m0s\u001b[0m 16ms/step - loss: 0.2088 - mse: 0.2088\n",
            "Epoch 6: val_loss did not improve from 0.19650\n",
            "\u001b[1m400/400\u001b[0m \u001b[32m━━━━━━━━━━━━━━━━━━━━\u001b[0m\u001b[37m\u001b[0m \u001b[1m7s\u001b[0m 17ms/step - loss: 0.2088 - mse: 0.2088 - val_loss: 0.1965 - val_mse: 0.1965\n",
            "Epoch 7/100\n",
            "\u001b[1m400/400\u001b[0m \u001b[32m━━━━━━━━━━━━━━━━━━━━\u001b[0m\u001b[37m\u001b[0m \u001b[1m0s\u001b[0m 16ms/step - loss: 0.2060 - mse: 0.2060\n",
            "Epoch 7: val_loss did not improve from 0.19650\n",
            "\u001b[1m400/400\u001b[0m \u001b[32m━━━━━━━━━━━━━━━━━━━━\u001b[0m\u001b[37m\u001b[0m \u001b[1m11s\u001b[0m 19ms/step - loss: 0.2060 - mse: 0.2060 - val_loss: 0.1965 - val_mse: 0.1965\n",
            "Epoch 8/100\n",
            "\u001b[1m399/400\u001b[0m \u001b[32m━━━━━━━━━━━━━━━━━━━\u001b[0m\u001b[37m━\u001b[0m \u001b[1m0s\u001b[0m 14ms/step - loss: 0.2053 - mse: 0.2053\n",
            "Epoch 8: val_loss did not improve from 0.19650\n",
            "\u001b[1m400/400\u001b[0m \u001b[32m━━━━━━━━━━━━━━━━━━━━\u001b[0m\u001b[37m\u001b[0m \u001b[1m6s\u001b[0m 14ms/step - loss: 0.2053 - mse: 0.2053 - val_loss: 0.1965 - val_mse: 0.1965\n",
            "Epoch 9/100\n",
            "\u001b[1m398/400\u001b[0m \u001b[32m━━━━━━━━━━━━━━━━━━━\u001b[0m\u001b[37m━\u001b[0m \u001b[1m0s\u001b[0m 16ms/step - loss: 0.2058 - mse: 0.2058\n",
            "Epoch 9: val_loss did not improve from 0.19650\n",
            "\u001b[1m400/400\u001b[0m \u001b[32m━━━━━━━━━━━━━━━━━━━━\u001b[0m\u001b[37m\u001b[0m \u001b[1m11s\u001b[0m 17ms/step - loss: 0.2058 - mse: 0.2058 - val_loss: 0.1965 - val_mse: 0.1965\n",
            "Epoch 10/100\n",
            "\u001b[1m399/400\u001b[0m \u001b[32m━━━━━━━━━━━━━━━━━━━\u001b[0m\u001b[37m━\u001b[0m \u001b[1m0s\u001b[0m 23ms/step - loss: 0.2065 - mse: 0.2065\n",
            "Epoch 10: val_loss did not improve from 0.19650\n",
            "\u001b[1m400/400\u001b[0m \u001b[32m━━━━━━━━━━━━━━━━━━━━\u001b[0m\u001b[37m\u001b[0m \u001b[1m10s\u001b[0m 25ms/step - loss: 0.2065 - mse: 0.2065 - val_loss: 0.1965 - val_mse: 0.1965\n",
            "Epoch 11/100\n",
            "\u001b[1m400/400\u001b[0m \u001b[32m━━━━━━━━━━━━━━━━━━━━\u001b[0m\u001b[37m\u001b[0m \u001b[1m0s\u001b[0m 14ms/step - loss: 0.2059 - mse: 0.2059\n",
            "Epoch 11: val_loss did not improve from 0.19650\n",
            "\u001b[1m400/400\u001b[0m \u001b[32m━━━━━━━━━━━━━━━━━━━━\u001b[0m\u001b[37m\u001b[0m \u001b[1m6s\u001b[0m 14ms/step - loss: 0.2059 - mse: 0.2059 - val_loss: 0.1965 - val_mse: 0.1965\n",
            "Epoch 12/100\n",
            "\u001b[1m400/400\u001b[0m \u001b[32m━━━━━━━━━━━━━━━━━━━━\u001b[0m\u001b[37m\u001b[0m \u001b[1m0s\u001b[0m 15ms/step - loss: 0.2020 - mse: 0.2020\n",
            "Epoch 12: val_loss did not improve from 0.19650\n",
            "\u001b[1m400/400\u001b[0m \u001b[32m━━━━━━━━━━━━━━━━━━━━\u001b[0m\u001b[37m\u001b[0m \u001b[1m11s\u001b[0m 16ms/step - loss: 0.2020 - mse: 0.2020 - val_loss: 0.1965 - val_mse: 0.1965\n",
            "Epoch 12: early stopping\n",
            "Restoring model weights from the end of the best epoch: 2.\n"
          ]
        },
        {
          "output_type": "execute_result",
          "data": {
            "text/plain": [
              "<keras.src.callbacks.history.History at 0x7d02e007f7d0>"
            ]
          },
          "metadata": {},
          "execution_count": 77
        }
      ]
    },
    {
      "cell_type": "code",
      "source": [
        "m7 = Sequential()\n",
        "m7.add(Dense(units=16, input_shape=(12,), kernel_initializer='random_uniform', activation='relu'))\n",
        "m7.add(Dropout(0.2))\n",
        "m7.add(Dense(units=32, kernel_initializer='he_uniform', activation='relu'))\n",
        "m7.add(Dropout(0.2))\n",
        "m7.add(Dense(units=64, kernel_initializer='he_uniform', activation='relu'))\n",
        "m7.add(Dropout(0.2))\n",
        "m7.add(Dense(units=1, kernel_initializer='he_uniform'))\n",
        "m7.compile(optimizer='adam', loss='mean_squared_error', metrics=['mse'])"
      ],
      "metadata": {
        "id": "o_jJN1NtyVr4"
      },
      "execution_count": 81,
      "outputs": []
    },
    {
      "cell_type": "code",
      "source": [
        "early_stop_for_dropout_4l = EarlyStopping(\n",
        "    monitor='val_loss',\n",
        "    patience=2,\n",
        "    mode='min',\n",
        "    restore_best_weights=True,\n",
        "    verbose=1\n",
        "    )\n",
        "\n",
        "checkpoint_dropout_4l = ModelCheckpoint(\n",
        "    'with_dropout_layer_4l.keras', #saving the model\n",
        "    monitor='val_loss',\n",
        "    save_best_only=True,\n",
        "    verbose=1\n",
        ")"
      ],
      "metadata": {
        "id": "TYf9vJE9xoPw"
      },
      "execution_count": 82,
      "outputs": []
    },
    {
      "cell_type": "code",
      "source": [
        "m7.fit(x_train,y_train,epochs=100,batch_size=20,validation_split=0.2,validation_data=(x_test,y_test),callbacks=[early_stop_for_dropout_4l,checkpoint_dropout_4l])"
      ],
      "metadata": {
        "colab": {
          "base_uri": "https://localhost:8080/"
        },
        "id": "b6t_GpL_zAik",
        "outputId": "125946a6-ba9c-4733-bfc3-65c23e8c5902"
      },
      "execution_count": 83,
      "outputs": [
        {
          "output_type": "stream",
          "name": "stdout",
          "text": [
            "Epoch 1/100\n",
            "\u001b[1m381/400\u001b[0m \u001b[32m━━━━━━━━━━━━━━━━━━━\u001b[0m\u001b[37m━\u001b[0m \u001b[1m0s\u001b[0m 2ms/step - loss: 2394084.0000 - mse: 2394084.0000\n",
            "Epoch 1: val_loss improved from inf to 6.33618, saving model to with_dropout_layer_4l.keras\n",
            "\u001b[1m400/400\u001b[0m \u001b[32m━━━━━━━━━━━━━━━━━━━━\u001b[0m\u001b[37m\u001b[0m \u001b[1m3s\u001b[0m 4ms/step - loss: 2308353.2500 - mse: 2308353.2500 - val_loss: 6.3362 - val_mse: 6.3362\n",
            "Epoch 2/100\n",
            "\u001b[1m400/400\u001b[0m \u001b[32m━━━━━━━━━━━━━━━━━━━━\u001b[0m\u001b[37m\u001b[0m \u001b[1m0s\u001b[0m 2ms/step - loss: 2342.6755 - mse: 2342.6755\n",
            "Epoch 2: val_loss improved from 6.33618 to 0.32648, saving model to with_dropout_layer_4l.keras\n",
            "\u001b[1m400/400\u001b[0m \u001b[32m━━━━━━━━━━━━━━━━━━━━\u001b[0m\u001b[37m\u001b[0m \u001b[1m1s\u001b[0m 3ms/step - loss: 2339.6621 - mse: 2339.6621 - val_loss: 0.3265 - val_mse: 0.3265\n",
            "Epoch 3/100\n",
            "\u001b[1m386/400\u001b[0m \u001b[32m━━━━━━━━━━━━━━━━━━━\u001b[0m\u001b[37m━\u001b[0m \u001b[1m0s\u001b[0m 2ms/step - loss: 165.9343 - mse: 165.9343\n",
            "Epoch 3: val_loss improved from 0.32648 to 0.25734, saving model to with_dropout_layer_4l.keras\n",
            "\u001b[1m400/400\u001b[0m \u001b[32m━━━━━━━━━━━━━━━━━━━━\u001b[0m\u001b[37m\u001b[0m \u001b[1m1s\u001b[0m 3ms/step - loss: 164.5197 - mse: 164.5197 - val_loss: 0.2573 - val_mse: 0.2573\n",
            "Epoch 4/100\n",
            "\u001b[1m396/400\u001b[0m \u001b[32m━━━━━━━━━━━━━━━━━━━\u001b[0m\u001b[37m━\u001b[0m \u001b[1m0s\u001b[0m 2ms/step - loss: 37.9334 - mse: 37.9334\n",
            "Epoch 4: val_loss improved from 0.25734 to 0.23111, saving model to with_dropout_layer_4l.keras\n",
            "\u001b[1m400/400\u001b[0m \u001b[32m━━━━━━━━━━━━━━━━━━━━\u001b[0m\u001b[37m\u001b[0m \u001b[1m1s\u001b[0m 3ms/step - loss: 37.8762 - mse: 37.8762 - val_loss: 0.2311 - val_mse: 0.2311\n",
            "Epoch 5/100\n",
            "\u001b[1m391/400\u001b[0m \u001b[32m━━━━━━━━━━━━━━━━━━━\u001b[0m\u001b[37m━\u001b[0m \u001b[1m0s\u001b[0m 2ms/step - loss: 8.2498 - mse: 8.2498\n",
            "Epoch 5: val_loss did not improve from 0.23111\n",
            "\u001b[1m400/400\u001b[0m \u001b[32m━━━━━━━━━━━━━━━━━━━━\u001b[0m\u001b[37m\u001b[0m \u001b[1m1s\u001b[0m 3ms/step - loss: 8.2517 - mse: 8.2517 - val_loss: 0.2348 - val_mse: 0.2348\n",
            "Epoch 6/100\n",
            "\u001b[1m391/400\u001b[0m \u001b[32m━━━━━━━━━━━━━━━━━━━\u001b[0m\u001b[37m━\u001b[0m \u001b[1m0s\u001b[0m 3ms/step - loss: 4.2743 - mse: 4.2743\n",
            "Epoch 6: val_loss improved from 0.23111 to 0.20577, saving model to with_dropout_layer_4l.keras\n",
            "\u001b[1m400/400\u001b[0m \u001b[32m━━━━━━━━━━━━━━━━━━━━\u001b[0m\u001b[37m\u001b[0m \u001b[1m2s\u001b[0m 4ms/step - loss: 4.2634 - mse: 4.2634 - val_loss: 0.2058 - val_mse: 0.2058\n",
            "Epoch 7/100\n",
            "\u001b[1m391/400\u001b[0m \u001b[32m━━━━━━━━━━━━━━━━━━━\u001b[0m\u001b[37m━\u001b[0m \u001b[1m0s\u001b[0m 3ms/step - loss: 1.0662 - mse: 1.0662\n",
            "Epoch 7: val_loss improved from 0.20577 to 0.20019, saving model to with_dropout_layer_4l.keras\n",
            "\u001b[1m400/400\u001b[0m \u001b[32m━━━━━━━━━━━━━━━━━━━━\u001b[0m\u001b[37m\u001b[0m \u001b[1m2s\u001b[0m 4ms/step - loss: 1.0679 - mse: 1.0679 - val_loss: 0.2002 - val_mse: 0.2002\n",
            "Epoch 8/100\n",
            "\u001b[1m387/400\u001b[0m \u001b[32m━━━━━━━━━━━━━━━━━━━\u001b[0m\u001b[37m━\u001b[0m \u001b[1m0s\u001b[0m 2ms/step - loss: 0.9772 - mse: 0.9772\n",
            "Epoch 8: val_loss improved from 0.20019 to 0.19474, saving model to with_dropout_layer_4l.keras\n",
            "\u001b[1m400/400\u001b[0m \u001b[32m━━━━━━━━━━━━━━━━━━━━\u001b[0m\u001b[37m\u001b[0m \u001b[1m2s\u001b[0m 3ms/step - loss: 0.9703 - mse: 0.9703 - val_loss: 0.1947 - val_mse: 0.1947\n",
            "Epoch 9/100\n",
            "\u001b[1m389/400\u001b[0m \u001b[32m━━━━━━━━━━━━━━━━━━━\u001b[0m\u001b[37m━\u001b[0m \u001b[1m0s\u001b[0m 2ms/step - loss: 0.4217 - mse: 0.4217\n",
            "Epoch 9: val_loss improved from 0.19474 to 0.18969, saving model to with_dropout_layer_4l.keras\n",
            "\u001b[1m400/400\u001b[0m \u001b[32m━━━━━━━━━━━━━━━━━━━━\u001b[0m\u001b[37m\u001b[0m \u001b[1m1s\u001b[0m 3ms/step - loss: 0.4211 - mse: 0.4211 - val_loss: 0.1897 - val_mse: 0.1897\n",
            "Epoch 10/100\n",
            "\u001b[1m396/400\u001b[0m \u001b[32m━━━━━━━━━━━━━━━━━━━\u001b[0m\u001b[37m━\u001b[0m \u001b[1m0s\u001b[0m 2ms/step - loss: 0.3398 - mse: 0.3398\n",
            "Epoch 10: val_loss improved from 0.18969 to 0.18541, saving model to with_dropout_layer_4l.keras\n",
            "\u001b[1m400/400\u001b[0m \u001b[32m━━━━━━━━━━━━━━━━━━━━\u001b[0m\u001b[37m\u001b[0m \u001b[1m1s\u001b[0m 3ms/step - loss: 0.3401 - mse: 0.3401 - val_loss: 0.1854 - val_mse: 0.1854\n",
            "Epoch 11/100\n",
            "\u001b[1m384/400\u001b[0m \u001b[32m━━━━━━━━━━━━━━━━━━━\u001b[0m\u001b[37m━\u001b[0m \u001b[1m0s\u001b[0m 2ms/step - loss: 0.2761 - mse: 0.2761\n",
            "Epoch 11: val_loss improved from 0.18541 to 0.18354, saving model to with_dropout_layer_4l.keras\n",
            "\u001b[1m400/400\u001b[0m \u001b[32m━━━━━━━━━━━━━━━━━━━━\u001b[0m\u001b[37m\u001b[0m \u001b[1m1s\u001b[0m 3ms/step - loss: 0.2765 - mse: 0.2765 - val_loss: 0.1835 - val_mse: 0.1835\n",
            "Epoch 12/100\n",
            "\u001b[1m388/400\u001b[0m \u001b[32m━━━━━━━━━━━━━━━━━━━\u001b[0m\u001b[37m━\u001b[0m \u001b[1m0s\u001b[0m 2ms/step - loss: 0.3114 - mse: 0.3114\n",
            "Epoch 12: val_loss improved from 0.18354 to 0.17837, saving model to with_dropout_layer_4l.keras\n",
            "\u001b[1m400/400\u001b[0m \u001b[32m━━━━━━━━━━━━━━━━━━━━\u001b[0m\u001b[37m\u001b[0m \u001b[1m1s\u001b[0m 3ms/step - loss: 0.3114 - mse: 0.3114 - val_loss: 0.1784 - val_mse: 0.1784\n",
            "Epoch 13/100\n",
            "\u001b[1m392/400\u001b[0m \u001b[32m━━━━━━━━━━━━━━━━━━━\u001b[0m\u001b[37m━\u001b[0m \u001b[1m0s\u001b[0m 2ms/step - loss: 0.2441 - mse: 0.2441\n",
            "Epoch 13: val_loss improved from 0.17837 to 0.17500, saving model to with_dropout_layer_4l.keras\n",
            "\u001b[1m400/400\u001b[0m \u001b[32m━━━━━━━━━━━━━━━━━━━━\u001b[0m\u001b[37m\u001b[0m \u001b[1m1s\u001b[0m 3ms/step - loss: 0.2441 - mse: 0.2441 - val_loss: 0.1750 - val_mse: 0.1750\n",
            "Epoch 14/100\n",
            "\u001b[1m392/400\u001b[0m \u001b[32m━━━━━━━━━━━━━━━━━━━\u001b[0m\u001b[37m━\u001b[0m \u001b[1m0s\u001b[0m 2ms/step - loss: 0.2389 - mse: 0.2389\n",
            "Epoch 14: val_loss improved from 0.17500 to 0.17174, saving model to with_dropout_layer_4l.keras\n",
            "\u001b[1m400/400\u001b[0m \u001b[32m━━━━━━━━━━━━━━━━━━━━\u001b[0m\u001b[37m\u001b[0m \u001b[1m1s\u001b[0m 3ms/step - loss: 0.2388 - mse: 0.2388 - val_loss: 0.1717 - val_mse: 0.1717\n",
            "Epoch 15/100\n",
            "\u001b[1m389/400\u001b[0m \u001b[32m━━━━━━━━━━━━━━━━━━━\u001b[0m\u001b[37m━\u001b[0m \u001b[1m0s\u001b[0m 3ms/step - loss: 0.2038 - mse: 0.2038\n",
            "Epoch 15: val_loss improved from 0.17174 to 0.16834, saving model to with_dropout_layer_4l.keras\n",
            "\u001b[1m400/400\u001b[0m \u001b[32m━━━━━━━━━━━━━━━━━━━━\u001b[0m\u001b[37m\u001b[0m \u001b[1m1s\u001b[0m 4ms/step - loss: 0.2042 - mse: 0.2042 - val_loss: 0.1683 - val_mse: 0.1683\n",
            "Epoch 16/100\n",
            "\u001b[1m388/400\u001b[0m \u001b[32m━━━━━━━━━━━━━━━━━━━\u001b[0m\u001b[37m━\u001b[0m \u001b[1m0s\u001b[0m 2ms/step - loss: 0.2016 - mse: 0.2016\n",
            "Epoch 16: val_loss improved from 0.16834 to 0.16537, saving model to with_dropout_layer_4l.keras\n",
            "\u001b[1m400/400\u001b[0m \u001b[32m━━━━━━━━━━━━━━━━━━━━\u001b[0m\u001b[37m\u001b[0m \u001b[1m2s\u001b[0m 3ms/step - loss: 0.2014 - mse: 0.2014 - val_loss: 0.1654 - val_mse: 0.1654\n",
            "Epoch 17/100\n",
            "\u001b[1m386/400\u001b[0m \u001b[32m━━━━━━━━━━━━━━━━━━━\u001b[0m\u001b[37m━\u001b[0m \u001b[1m0s\u001b[0m 2ms/step - loss: 0.1982 - mse: 0.1982\n",
            "Epoch 17: val_loss improved from 0.16537 to 0.16343, saving model to with_dropout_layer_4l.keras\n",
            "\u001b[1m400/400\u001b[0m \u001b[32m━━━━━━━━━━━━━━━━━━━━\u001b[0m\u001b[37m\u001b[0m \u001b[1m1s\u001b[0m 3ms/step - loss: 0.1980 - mse: 0.1980 - val_loss: 0.1634 - val_mse: 0.1634\n",
            "Epoch 18/100\n",
            "\u001b[1m383/400\u001b[0m \u001b[32m━━━━━━━━━━━━━━━━━━━\u001b[0m\u001b[37m━\u001b[0m \u001b[1m0s\u001b[0m 2ms/step - loss: 0.1937 - mse: 0.1937\n",
            "Epoch 18: val_loss improved from 0.16343 to 0.16119, saving model to with_dropout_layer_4l.keras\n",
            "\u001b[1m400/400\u001b[0m \u001b[32m━━━━━━━━━━━━━━━━━━━━\u001b[0m\u001b[37m\u001b[0m \u001b[1m1s\u001b[0m 3ms/step - loss: 0.1934 - mse: 0.1934 - val_loss: 0.1612 - val_mse: 0.1612\n",
            "Epoch 19/100\n",
            "\u001b[1m390/400\u001b[0m \u001b[32m━━━━━━━━━━━━━━━━━━━\u001b[0m\u001b[37m━\u001b[0m \u001b[1m0s\u001b[0m 2ms/step - loss: 0.1899 - mse: 0.1899\n",
            "Epoch 19: val_loss improved from 0.16119 to 0.15973, saving model to with_dropout_layer_4l.keras\n",
            "\u001b[1m400/400\u001b[0m \u001b[32m━━━━━━━━━━━━━━━━━━━━\u001b[0m\u001b[37m\u001b[0m \u001b[1m1s\u001b[0m 3ms/step - loss: 0.1899 - mse: 0.1899 - val_loss: 0.1597 - val_mse: 0.1597\n",
            "Epoch 20/100\n",
            "\u001b[1m391/400\u001b[0m \u001b[32m━━━━━━━━━━━━━━━━━━━\u001b[0m\u001b[37m━\u001b[0m \u001b[1m0s\u001b[0m 3ms/step - loss: 0.1721 - mse: 0.1721\n",
            "Epoch 20: val_loss improved from 0.15973 to 0.15927, saving model to with_dropout_layer_4l.keras\n",
            "\u001b[1m400/400\u001b[0m \u001b[32m━━━━━━━━━━━━━━━━━━━━\u001b[0m\u001b[37m\u001b[0m \u001b[1m1s\u001b[0m 3ms/step - loss: 0.1722 - mse: 0.1722 - val_loss: 0.1593 - val_mse: 0.1593\n",
            "Epoch 21/100\n",
            "\u001b[1m385/400\u001b[0m \u001b[32m━━━━━━━━━━━━━━━━━━━\u001b[0m\u001b[37m━\u001b[0m \u001b[1m0s\u001b[0m 2ms/step - loss: 0.1798 - mse: 0.1798\n",
            "Epoch 21: val_loss improved from 0.15927 to 0.15838, saving model to with_dropout_layer_4l.keras\n",
            "\u001b[1m400/400\u001b[0m \u001b[32m━━━━━━━━━━━━━━━━━━━━\u001b[0m\u001b[37m\u001b[0m \u001b[1m3s\u001b[0m 3ms/step - loss: 0.1798 - mse: 0.1798 - val_loss: 0.1584 - val_mse: 0.1584\n",
            "Epoch 22/100\n",
            "\u001b[1m383/400\u001b[0m \u001b[32m━━━━━━━━━━━━━━━━━━━\u001b[0m\u001b[37m━\u001b[0m \u001b[1m0s\u001b[0m 2ms/step - loss: 0.1668 - mse: 0.1668\n",
            "Epoch 22: val_loss improved from 0.15838 to 0.15811, saving model to with_dropout_layer_4l.keras\n",
            "\u001b[1m400/400\u001b[0m \u001b[32m━━━━━━━━━━━━━━━━━━━━\u001b[0m\u001b[37m\u001b[0m \u001b[1m1s\u001b[0m 3ms/step - loss: 0.1670 - mse: 0.1670 - val_loss: 0.1581 - val_mse: 0.1581\n",
            "Epoch 23/100\n",
            "\u001b[1m400/400\u001b[0m \u001b[32m━━━━━━━━━━━━━━━━━━━━\u001b[0m\u001b[37m\u001b[0m \u001b[1m0s\u001b[0m 5ms/step - loss: 0.1617 - mse: 0.1617\n",
            "Epoch 23: val_loss improved from 0.15811 to 0.15802, saving model to with_dropout_layer_4l.keras\n",
            "\u001b[1m400/400\u001b[0m \u001b[32m━━━━━━━━━━━━━━━━━━━━\u001b[0m\u001b[37m\u001b[0m \u001b[1m2s\u001b[0m 6ms/step - loss: 0.1617 - mse: 0.1617 - val_loss: 0.1580 - val_mse: 0.1580\n",
            "Epoch 24/100\n",
            "\u001b[1m395/400\u001b[0m \u001b[32m━━━━━━━━━━━━━━━━━━━\u001b[0m\u001b[37m━\u001b[0m \u001b[1m0s\u001b[0m 3ms/step - loss: 0.1705 - mse: 0.1705\n",
            "Epoch 24: val_loss did not improve from 0.15802\n",
            "\u001b[1m400/400\u001b[0m \u001b[32m━━━━━━━━━━━━━━━━━━━━\u001b[0m\u001b[37m\u001b[0m \u001b[1m1s\u001b[0m 3ms/step - loss: 0.1705 - mse: 0.1705 - val_loss: 0.1581 - val_mse: 0.1581\n",
            "Epoch 25/100\n",
            "\u001b[1m383/400\u001b[0m \u001b[32m━━━━━━━━━━━━━━━━━━━\u001b[0m\u001b[37m━\u001b[0m \u001b[1m0s\u001b[0m 2ms/step - loss: 0.1711 - mse: 0.1711\n",
            "Epoch 25: val_loss did not improve from 0.15802\n",
            "\u001b[1m400/400\u001b[0m \u001b[32m━━━━━━━━━━━━━━━━━━━━\u001b[0m\u001b[37m\u001b[0m \u001b[1m1s\u001b[0m 3ms/step - loss: 0.1710 - mse: 0.1710 - val_loss: 0.1581 - val_mse: 0.1581\n",
            "Epoch 25: early stopping\n",
            "Restoring model weights from the end of the best epoch: 23.\n"
          ]
        },
        {
          "output_type": "execute_result",
          "data": {
            "text/plain": [
              "<keras.src.callbacks.history.History at 0x7d02de2ef950>"
            ]
          },
          "metadata": {},
          "execution_count": 83
        }
      ]
    },
    {
      "cell_type": "code",
      "source": [],
      "metadata": {
        "id": "e4i-GZlGzyxe"
      },
      "execution_count": null,
      "outputs": []
    }
  ]
}